{
 "cells": [
  {
   "cell_type": "code",
   "execution_count": 1,
   "metadata": {},
   "outputs": [],
   "source": [
    "import requests\n",
    "import json\n",
    "import pandas as pd\n",
    "from datetime import datetime"
   ]
  },
  {
   "cell_type": "code",
   "execution_count": 2,
   "metadata": {},
   "outputs": [
    {
     "name": "stdout",
     "output_type": "stream",
     "text": [
      "cust created\n"
     ]
    },
    {
     "data": {
      "text/plain": [
       "{'code': 201,\n",
       " 'message': 'Customer created',\n",
       " 'objectCreated': {'first_name': 'John',\n",
       "  'last_name': 'Smith',\n",
       "  'address': {'street_number': '1',\n",
       "   'street_name': 'Apple Rd',\n",
       "   'city': 'Boston',\n",
       "   'state': 'MA',\n",
       "   'zip': '00215'},\n",
       "  '_id': '635d971278f6910a15f0be4a'}}"
      ]
     },
     "execution_count": 2,
     "metadata": {},
     "output_type": "execute_result"
    }
   ],
   "source": [
    "customerId = '123456'\n",
    "\n",
    "apiKey = '162961864e9109ece6a8a8d9e297e003'\n",
    "\n",
    "#url = 'http://api.reimaginebanking.com/customers/{}/accounts?key={}'.format(customerId,apiKey)\n",
    "url = f'http://api.nessieisreal.com/customers?key={apiKey}'\n",
    "\n",
    "cust_info = {\n",
    "  \"first_name\": \"John\",\n",
    "  \"last_name\": \"Smith\",\n",
    "  \"address\": {\n",
    "    \"street_number\": \"1\",\n",
    "    \"street_name\": \"Apple Rd\",\n",
    "    \"city\": \"Boston\",\n",
    "    \"state\": \"MA\",\n",
    "    \"zip\": \"00215\"\n",
    "  }\n",
    "}\n",
    "# Create a Savings Account\n",
    "response = requests.post( \n",
    "\turl, \n",
    "\tdata=json.dumps(cust_info),\n",
    "\theaders={'content-type':'application/json'},\n",
    "\t)\n",
    "\n",
    "\n",
    "if response.status_code == 201:\n",
    "\tprint('cust created')\n",
    "    \n",
    "response.json()"
   ]
  },
  {
   "cell_type": "code",
   "execution_count": 3,
   "metadata": {},
   "outputs": [
    {
     "data": {
      "text/plain": [
       "{'code': 400,\n",
       " 'message': 'Invalid Customer, missing required fields',\n",
       " 'culprit': ['first_name', 'last_name', 'address']}"
      ]
     },
     "execution_count": 3,
     "metadata": {},
     "output_type": "execute_result"
    }
   ],
   "source": [
    "\n",
    "cust_info = {\n",
    "  \"type\": \"Credit Card\",\n",
    "  \"nickname\": \"John\",\n",
    "  \"rewards\": 0,\n",
    "  \"balance\": 0,\n",
    "  \"account_number\": \"12345678912345678\"\n",
    "}\n",
    "\n",
    "# Create a Savings Account\n",
    "response = requests.post( \n",
    "\turl, \n",
    "\tdata=json.dumps(cust_info),\n",
    "\theaders={'content-type':'application/json'},\n",
    "\t)\n",
    "\n",
    "\n",
    "if response.status_code == 201:\n",
    "\tprint('cust created')\n",
    "    \n",
    "response.json()"
   ]
  },
  {
   "cell_type": "code",
   "execution_count": null,
   "metadata": {},
   "outputs": [],
   "source": []
  }
 ],
 "metadata": {
  "kernelspec": {
   "display_name": "Python 3.9.0 32-bit",
   "language": "python",
   "name": "python3"
  },
  "language_info": {
   "codemirror_mode": {
    "name": "ipython",
    "version": 3
   },
   "file_extension": ".py",
   "mimetype": "text/x-python",
   "name": "python",
   "nbconvert_exporter": "python",
   "pygments_lexer": "ipython3",
   "version": "3.9.0"
  },
  "orig_nbformat": 4,
  "vscode": {
   "interpreter": {
    "hash": "7680a910db1d140edd944b60b213d7113b6f0fdda5297245ad0dcc74d4dedd41"
   }
  }
 },
 "nbformat": 4,
 "nbformat_minor": 2
}
