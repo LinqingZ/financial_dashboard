{
 "cells": [
  {
   "cell_type": "code",
   "execution_count": 18,
   "id": "6a732fdb-f55c-42d0-a7ec-fbb6c2f02492",
   "metadata": {},
   "outputs": [],
   "source": [
    "import requests\n",
    "import json\n",
    "import pandas as pd\n",
    "from datetime import datetime"
   ]
  },
  {
   "cell_type": "code",
   "execution_count": 19,
   "id": "8ffb880e-beab-43c1-9f05-66b4671eba12",
   "metadata": {},
   "outputs": [],
   "source": [
    "apiKey = '3082fde6c2b312a096ca60721a12c065'\n",
    "# make 3 users\n",
    "new_cust_url = f'http://api.nessieisreal.com/customers?key={apiKey}'"
   ]
  },
  {
   "cell_type": "code",
   "execution_count": 20,
   "id": "dd83f980",
   "metadata": {},
   "outputs": [],
   "source": [
    "# make dict of customer info\n",
    "cust_dict = {'fname': ['Josh', 'Mau', 'Nate'],\n",
    "              'lname': ['Pei', 'Ted', 'Peters'],\n",
    "              's_num': ['1', '2', '3'],\n",
    "              's_name': ['Huntington Ave', 'Dalton St', 'Columbus Ave'],\n",
    "              'city': ['Boston', 'Boston', 'Boston'],\n",
    "              'state': ['MA', 'MA', 'MA'],\n",
    "              'zip': ['02115', '02115', '02115']\n",
    "              }\n"
   ]
  },
  {
   "cell_type": "code",
   "execution_count": 21,
   "id": "e8767b21-64f6-48e7-a88e-576d704b48bc",
   "metadata": {},
   "outputs": [
    {
     "name": "stdout",
     "output_type": "stream",
     "text": [
      "Josh cust created\n",
      "{'code': 201, 'message': 'Customer created', 'objectCreated': {'first_name': 'Josh', 'last_name': 'Pei', 'address': {'street_number': '1', 'street_name': 'Huntington Ave', 'city': 'Boston', 'state': 'MA', 'zip': '02115'}, '_id': '635da24878f6910a15f0be78'}}\n",
      "Mau cust created\n",
      "{'code': 201, 'message': 'Customer created', 'objectCreated': {'first_name': 'Mau', 'last_name': 'Ted', 'address': {'street_number': '2', 'street_name': 'Dalton St', 'city': 'Boston', 'state': 'MA', 'zip': '02115'}, '_id': '635da24878f6910a15f0be79'}}\n",
      "Nate cust created\n",
      "{'code': 201, 'message': 'Customer created', 'objectCreated': {'first_name': 'Nate', 'last_name': 'Peters', 'address': {'street_number': '3', 'street_name': 'Columbus Ave', 'city': 'Boston', 'state': 'MA', 'zip': '02115'}, '_id': '635da24878f6910a15f0be7a'}}\n"
     ]
    }
   ],
   "source": [
    "for i in range(3):\n",
    "  \n",
    "  # set info\n",
    "  cust_info = {\n",
    "    \"first_name\": cust_dict['fname'][i],\n",
    "    \"last_name\": cust_dict['lname'][i],\n",
    "    \"address\": {\n",
    "      \"street_number\": cust_dict['s_num'][i],\n",
    "      \"street_name\": cust_dict['s_name'][i],\n",
    "      \"city\": cust_dict['city'][i],\n",
    "      \"state\": cust_dict['state'][i],\n",
    "      \"zip\": cust_dict['zip'][i]\n",
    "    }\n",
    "  }\n",
    "\n",
    "  \n",
    "\n",
    "  #Create a Savings Account\n",
    "  response = requests.post( \n",
    "    new_cust_url, \n",
    "    data=json.dumps(cust_info),\n",
    "    headers={'content-type':'application/json'},\n",
    "    )\n",
    "  \n",
    "  # check that the request went through successfully\n",
    "  if response.status_code == 201:\n",
    "    print(cust_dict['fname'][i], 'cust created')\n",
    "\n",
    "    print(response.json())\n",
    "    \n",
    "    \n",
    "\n"
   ]
  },
  {
   "cell_type": "code",
   "execution_count": 22,
   "id": "d3f0b89c-8df1-46c7-ab94-9b181cfa310c",
   "metadata": {},
   "outputs": [],
   "source": [
    "mau_id = \"635d8fdc78f6910a15f0be3b\"\n",
    "\n",
    "josh_id = \"635d8fdc78f6910a15f0be3a\"\n",
    "\n",
    "nate_id = \"635d8fdc78f6910a15f0be3c\"\n",
    "\n",
    "apiKey = '3082fde6c2b312a096ca60721a12c065'\n",
    "\n",
    "id_lst = [josh_id, mau_id, nate_id]\n"
   ]
  },
  {
   "cell_type": "code",
   "execution_count": 23,
   "id": "89fb502e-4582-4a95-aefd-e19c58bdf8ec",
   "metadata": {},
   "outputs": [
    {
     "data": {
      "text/plain": [
       "{'code': 201,\n",
       " 'message': 'Account created',\n",
       " 'objectCreated': {'type': 'Credit Card',\n",
       "  'nickname': 'Drink Department',\n",
       "  'rewards': 100,\n",
       "  'balance': 1000,\n",
       "  'account_number': '0011223300112233',\n",
       "  'customer_id': '635d8fdc78f6910a15f0be3a',\n",
       "  '_id': '635da24878f6910a15f0be7b'}}"
      ]
     },
     "execution_count": 23,
     "metadata": {},
     "output_type": "execute_result"
    }
   ],
   "source": [
    "# JOSH\n",
    "url = f'http://api.nessieisreal.com/customers/{josh_id}/accounts?key=3082fde6c2b312a096ca60721a12c065'\n",
    "\n",
    "account_info = {\n",
    "  \"type\": \"Credit Card\",\n",
    "  \"nickname\": \"Drink Department\",\n",
    "  \"rewards\": 100,\n",
    "  \"balance\": 1000,\n",
    "  \"account_number\": \"0011223300112233\"\n",
    "}\n",
    "\n",
    "#Create a Savings Account\n",
    "response = requests.post( \n",
    "  url, \n",
    "  data=json.dumps(account_info),\n",
    "  headers={'content-type':'application/json'},\n",
    "  )\n",
    "response.json()\n"
   ]
  },
  {
   "cell_type": "code",
   "execution_count": 24,
   "id": "ddbac5b3-1594-475c-b311-e79c99a2a98a",
   "metadata": {},
   "outputs": [
    {
     "data": {
      "text/plain": [
       "{'code': 201,\n",
       " 'message': 'Account created',\n",
       " 'objectCreated': {'type': 'Credit Card',\n",
       "  'nickname': 'Room Budget',\n",
       "  'rewards': 100,\n",
       "  'balance': 1000,\n",
       "  'account_number': '1234567891234567',\n",
       "  'customer_id': '635d8fdc78f6910a15f0be3b',\n",
       "  '_id': '635da24978f6910a15f0be7c'}}"
      ]
     },
     "execution_count": 24,
     "metadata": {},
     "output_type": "execute_result"
    }
   ],
   "source": [
    "# MAU\n",
    "mau_acc_num = '1234567891234567'\n",
    "url = f'http://api.nessieisreal.com/customers/{mau_id}/accounts?key=3082fde6c2b312a096ca60721a12c065'\n",
    "\n",
    "account_info = {\n",
    "  \"type\": \"Credit Card\",\n",
    "  \"nickname\": \"Room Budget\",\n",
    "  \"rewards\": 100,\n",
    "  \"balance\": 1000,\n",
    "  \"account_number\": mau_acc_num\n",
    "}\n",
    "\n",
    "#Create a Savings Account\n",
    "response = requests.post( \n",
    "  url, \n",
    "  data=json.dumps(account_info),\n",
    "  headers={'content-type':'application/json'},\n",
    "  )\n",
    "response.json()\n"
   ]
  },
  {
   "cell_type": "code",
   "execution_count": 25,
   "id": "5a740e4a-51ab-492b-a334-0a70e017fbfa",
   "metadata": {},
   "outputs": [
    {
     "data": {
      "text/plain": [
       "{'code': 201,\n",
       " 'message': 'Account created',\n",
       " 'objectCreated': {'type': 'Credit Card',\n",
       "  'nickname': 'Food Budget',\n",
       "  'rewards': 100,\n",
       "  'balance': 1000,\n",
       "  'account_number': '1234567891234569',\n",
       "  'customer_id': '635d8fdc78f6910a15f0be3c',\n",
       "  '_id': '635da24978f6910a15f0be7d'}}"
      ]
     },
     "execution_count": 25,
     "metadata": {},
     "output_type": "execute_result"
    }
   ],
   "source": [
    "# NATE\n",
    "acc_num = '1234567891234569'\n",
    "url = f'http://api.nessieisreal.com/customers/{nate_id}/accounts?key=3082fde6c2b312a096ca60721a12c065'\n",
    "\n",
    "account_info = {\n",
    "  \"type\": \"Credit Card\",\n",
    "  \"nickname\": \"Food Budget\",\n",
    "  \"rewards\": 100,\n",
    "  \"balance\": 1000,\n",
    "  \"account_number\": acc_num\n",
    "}\n",
    "\n",
    "#Create a Savings Account\n",
    "response = requests.post( \n",
    "  url, \n",
    "  data=json.dumps(account_info),\n",
    "  headers={'content-type':'application/json'},\n",
    "  )\n",
    "response.json()\n"
   ]
  },
  {
   "cell_type": "code",
   "execution_count": 26,
   "id": "5500074e-c390-4a5c-b7d2-3475d271ef9e",
   "metadata": {},
   "outputs": [],
   "source": [
    "# make purchases for Josh\n",
    "\n",
    "\n",
    "josh_purchase_url = 'http://api.nessieisreal.com/accounts/635d8fdc78f6910a15f0be3c/purchases?key=3082fde6c2b312a096ca60721a12c065'\n",
    "\n",
    "josh_pur_details_list =[ {\n",
    "  \"merchant_id\": \"57cf75cea73e494d8675f031\",\n",
    "  \"medium\": \"balance\",\n",
    "  \"purchase_date\": \"2022-10-29\",\n",
    "  \"amount\": 100,\n",
    "  \"status\": \"completed\",\n",
    "  \"description\": \"bought drinks\"\n",
    "},\n",
    "\n",
    "{\n",
    "  \"merchant_id\": \"57cf75cea73e494d8675f031\",\n",
    "  \"medium\": \"balance\",\n",
    "  \"purchase_date\": \"2022-10-29\",\n",
    "  \"amount\": 200,\n",
    "  \"status\": \"completed\",\n",
    "  \"description\": \"bought drinks\"\n",
    "},\n",
    "\n",
    "{\n",
    "  \"merchant_id\": \"57cf75cea73e494d8675f031\",\n",
    "  \"medium\": \"balance\",\n",
    "  \"purchase_date\": \"2022-10-29\",\n",
    "  \"amount\": 300,\n",
    "  \"status\": \"completed\",\n",
    "  \"description\": \"bought drinks\"\n",
    "},\n",
    "\n",
    "]\n",
    "\n"
   ]
  },
  {
   "cell_type": "code",
   "execution_count": 27,
   "id": "971a196b-b62a-4dcd-ba34-4354227dfa73",
   "metadata": {},
   "outputs": [
    {
     "name": "stdout",
     "output_type": "stream",
     "text": [
      "{'code': 404, 'message': 'This id does not exist in accounts'} \n",
      "\n",
      "{'code': 404, 'message': 'This id does not exist in accounts'} \n",
      "\n",
      "{'code': 404, 'message': 'This id does not exist in accounts'} \n",
      "\n"
     ]
    }
   ],
   "source": [
    "# make those purchases\n",
    "for i in josh_pur_details_list:\n",
    "    response = requests.post( \n",
    "    josh_purchase_url, \n",
    "    data=json.dumps(i),\n",
    "    headers={'content-type':'application/json'},\n",
    "    )\n",
    "    print(response.json(), '\\n')"
   ]
  },
  {
   "cell_type": "code",
   "execution_count": null,
   "id": "5e5adeee-d28a-4a7f-9ddd-14bf95a6e0b8",
   "metadata": {},
   "outputs": [],
   "source": []
  },
  {
   "cell_type": "code",
   "execution_count": null,
   "id": "5ee85200-46fe-48c5-870b-c0bca3115944",
   "metadata": {},
   "outputs": [],
   "source": []
  },
  {
   "cell_type": "code",
   "execution_count": null,
   "id": "f78ce226-b105-457c-9260-37965d59ad20",
   "metadata": {},
   "outputs": [],
   "source": []
  },
  {
   "cell_type": "code",
   "execution_count": null,
   "id": "a23ce4b0-6bf3-46f3-a1da-a10df11ab0da",
   "metadata": {},
   "outputs": [],
   "source": []
  },
  {
   "cell_type": "code",
   "execution_count": null,
   "id": "be1d9544-1d49-40a8-9b0c-195f59bc00c0",
   "metadata": {},
   "outputs": [],
   "source": []
  }
 ],
 "metadata": {
  "kernelspec": {
   "display_name": "Python 3.9.7 ('base')",
   "language": "python",
   "name": "python3"
  },
  "language_info": {
   "codemirror_mode": {
    "name": "ipython",
    "version": 3
   },
   "file_extension": ".py",
   "mimetype": "text/x-python",
   "name": "python",
   "nbconvert_exporter": "python",
   "pygments_lexer": "ipython3",
   "version": "3.9.7"
  },
  "vscode": {
   "interpreter": {
    "hash": "7df21db6761de73987576a8316a0ec817ebc4e5df6c9067734b14adf711e88ba"
   }
  }
 },
 "nbformat": 4,
 "nbformat_minor": 5
}
