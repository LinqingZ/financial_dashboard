{
 "cells": [
  {
   "cell_type": "code",
   "execution_count": 13,
   "id": "6a732fdb-f55c-42d0-a7ec-fbb6c2f02492",
   "metadata": {},
   "outputs": [],
   "source": [
    "import requests\n",
    "import json\n",
    "import pandas as pd\n",
    "from datetime import datetime"
   ]
  },
  {
   "cell_type": "code",
   "execution_count": 14,
   "id": "8ffb880e-beab-43c1-9f05-66b4671eba12",
   "metadata": {},
   "outputs": [],
   "source": [
    "apiKey = '162961864e9109ece6a8a8d9e297e003'\n",
    "# make 3 users\n",
    "new_cust_url = f'http://api.nessieisreal.com/customers?key={apiKey}'"
   ]
  },
  {
   "cell_type": "code",
   "execution_count": 3,
   "id": "dd83f980",
   "metadata": {},
   "outputs": [],
   "source": [
    "# make dict of customer info\n",
    "cust_dict = {'fname': ['Josh', 'Mau', 'Nate'],\n",
    "              'lname': ['Pei', 'Ted', 'Peters'],\n",
    "              's_num': ['1', '2', '3'],\n",
    "              's_name': ['Huntington Ave', 'Dalton St', 'Columbus Ave'],\n",
    "              'city': ['Boston', 'Boston', 'Boston'],\n",
    "              'state': ['MA', 'MA', 'MA'],\n",
    "              'zip': ['02115', '02115', '02115']\n",
    "              }\n"
   ]
  },
  {
   "cell_type": "code",
   "execution_count": 4,
   "id": "e8767b21-64f6-48e7-a88e-576d704b48bc",
   "metadata": {},
   "outputs": [
    {
     "name": "stdout",
     "output_type": "stream",
     "text": [
      "Josh cust created\n",
      "{'code': 201, 'message': 'Customer created', 'objectCreated': {'first_name': 'Josh', 'last_name': 'Pei', 'address': {'street_number': '1', 'street_name': 'Huntington Ave', 'city': 'Boston', 'state': 'MA', 'zip': '02115'}, '_id': '635dc66e78f6910a15f0be97'}}\n",
      "Mau cust created\n",
      "{'code': 201, 'message': 'Customer created', 'objectCreated': {'first_name': 'Mau', 'last_name': 'Ted', 'address': {'street_number': '2', 'street_name': 'Dalton St', 'city': 'Boston', 'state': 'MA', 'zip': '02115'}, '_id': '635dc66e78f6910a15f0be98'}}\n",
      "Nate cust created\n",
      "{'code': 201, 'message': 'Customer created', 'objectCreated': {'first_name': 'Nate', 'last_name': 'Peters', 'address': {'street_number': '3', 'street_name': 'Columbus Ave', 'city': 'Boston', 'state': 'MA', 'zip': '02115'}, '_id': '635dc66e78f6910a15f0be99'}}\n"
     ]
    }
   ],
   "source": [
    "for i in range(3):\n",
    "  \n",
    "  # set info\n",
    "  cust_info = {\n",
    "    \"first_name\": cust_dict['fname'][i],\n",
    "    \"last_name\": cust_dict['lname'][i],\n",
    "    \"address\": {\n",
    "      \"street_number\": cust_dict['s_num'][i],\n",
    "      \"street_name\": cust_dict['s_name'][i],\n",
    "      \"city\": cust_dict['city'][i],\n",
    "      \"state\": cust_dict['state'][i],\n",
    "      \"zip\": cust_dict['zip'][i]\n",
    "    }\n",
    "  }\n",
    "\n",
    "\n",
    "  #Create a bank Account\n",
    "  response = requests.post( \n",
    "    new_cust_url, \n",
    "    data=json.dumps(cust_info),\n",
    "    headers={'content-type':'application/json'},\n",
    "    )\n",
    "  \n",
    "  # check that the request went through successfully\n",
    "  if response.status_code == 201:\n",
    "    print(cust_dict['fname'][i], 'cust created')\n",
    "\n",
    "    print(response.json())\n",
    "    \n",
    "    \n",
    "\n"
   ]
  },
  {
   "cell_type": "code",
   "execution_count": 5,
   "id": "6651cee5",
   "metadata": {},
   "outputs": [],
   "source": [
    "mau_id_account = \"635d9cf278f6910a15f0be6c\"\n",
    "\n",
    "josh_id_account = \"635d9cf278f6910a15f0be6b\"\n",
    "\n",
    "nate_id_account = \"635d9cf278f6910a15f0be6d\"\n",
    "\n",
    "apiKey = '162961864e9109ece6a8a8d9e297e003'\n",
    "\n",
    "id_lst = [josh_id, mau_id, nate_id]\n"
   ]
  },
  {
   "cell_type": "code",
   "execution_count": 6,
   "id": "d3f0b89c-8df1-46c7-ab94-9b181cfa310c",
   "metadata": {},
   "outputs": [],
   "source": [
    "# mau_id = \"635d8fdc78f6910a15f0be3b\"\n",
    "\n",
    "# josh_id = \"635d8fdc78f6910a15f0be3a\"\n",
    "\n",
    "# nate_id = \"635d8fdc78f6910a15f0be3c\"\n",
    "\n",
    "# apiKey = '3082fde6c2b312a096ca60721a12c065'\n",
    "\n",
    "# id_lst = [josh_id, mau_id, nate_id]\n"
   ]
  },
  {
   "cell_type": "code",
   "execution_count": 7,
   "id": "89fb502e-4582-4a95-aefd-e19c58bdf8ec",
   "metadata": {},
   "outputs": [
    {
     "data": {
      "text/plain": [
       "{'code': 201,\n",
       " 'message': 'Account created',\n",
       " 'objectCreated': {'type': 'Credit Card',\n",
       "  'nickname': 'Drink Department',\n",
       "  'rewards': 100,\n",
       "  'balance': 1000,\n",
       "  'account_number': '0011223300112233',\n",
       "  'customer_id': '635d9cf278f6910a15f0be6b',\n",
       "  '_id': '635dc67178f6910a15f0be9a'}}"
      ]
     },
     "execution_count": 7,
     "metadata": {},
     "output_type": "execute_result"
    }
   ],
   "source": [
    "# JOSH\n",
    "url = f'http://api.nessieisreal.com/customers/{josh_id}/accounts?key={apiKey}'\n",
    "\n",
    "josh_acc_num = \"0011223300112233\"\n",
    "account_info = {\n",
    "  \"type\": \"Credit Card\",\n",
    "  \"nickname\": \"Drink Department\",\n",
    "  \"rewards\": 100,\n",
    "  \"balance\": 1000,\n",
    "  \"account_number\": josh_acc_num\n",
    "}\n",
    "\n",
    "#Create a Card Account\n",
    "# Checking Card/Credit Card\n",
    "response = requests.post( \n",
    "  url, \n",
    "  data=json.dumps(account_info),\n",
    "  headers={'content-type':'application/json'},\n",
    "  )\n",
    "response.json()\n",
    "\n",
    "# get the card id after created a account\n"
   ]
  },
  {
   "cell_type": "code",
   "execution_count": 8,
   "id": "ddbac5b3-1594-475c-b311-e79c99a2a98a",
   "metadata": {},
   "outputs": [
    {
     "data": {
      "text/plain": [
       "{'code': 201,\n",
       " 'message': 'Account created',\n",
       " 'objectCreated': {'type': 'Credit Card',\n",
       "  'nickname': 'Room Budget',\n",
       "  'rewards': 100,\n",
       "  'balance': 1000,\n",
       "  'account_number': '1234567891234567',\n",
       "  'customer_id': '635d9cf278f6910a15f0be6c',\n",
       "  '_id': '635dc67278f6910a15f0be9b'}}"
      ]
     },
     "execution_count": 8,
     "metadata": {},
     "output_type": "execute_result"
    }
   ],
   "source": [
    "# MAU\n",
    "mau_acc_num = '1234567891234567'\n",
    "url = f'http://api.nessieisreal.com/customers/{mau_id}/accounts?key=3082fde6c2b312a096ca60721a12c065'\n",
    "\n",
    "account_info = {\n",
    "  \"type\": \"Credit Card\",\n",
    "  \"nickname\": \"Room Budget\",\n",
    "  \"rewards\": 100,\n",
    "  \"balance\": 1000,\n",
    "  \"account_number\": mau_acc_num\n",
    "}\n",
    "\n",
    "#Create a Savings Account\n",
    "response = requests.post( \n",
    "  url, \n",
    "  data=json.dumps(account_info),\n",
    "  headers={'content-type':'application/json'},\n",
    "  )\n",
    "response.json()\n"
   ]
  },
  {
   "cell_type": "code",
   "execution_count": 9,
   "id": "5a740e4a-51ab-492b-a334-0a70e017fbfa",
   "metadata": {},
   "outputs": [
    {
     "data": {
      "text/plain": [
       "{'code': 201,\n",
       " 'message': 'Account created',\n",
       " 'objectCreated': {'type': 'Credit Card',\n",
       "  'nickname': 'Food Budget',\n",
       "  'rewards': 100,\n",
       "  'balance': 1000,\n",
       "  'account_number': '1234567891234569',\n",
       "  'customer_id': '635d9cf278f6910a15f0be6d',\n",
       "  '_id': '635dc67378f6910a15f0be9c'}}"
      ]
     },
     "execution_count": 9,
     "metadata": {},
     "output_type": "execute_result"
    }
   ],
   "source": [
    "# NATE\n",
    "nate_acc_num = '1234567891234569'\n",
    "url = f'http://api.nessieisreal.com/customers/{nate_id}/accounts?key={apiKey}'\n",
    "\n",
    "account_info = {\n",
    "  \"type\": \"Credit Card\",\n",
    "  \"nickname\": \"Food Budget\",\n",
    "  \"rewards\": 100,\n",
    "  \"balance\": 1000,\n",
    "  \"account_number\": nate_acc_num\n",
    "}\n",
    "\n",
    "#Create a Savings Account\n",
    "response = requests.post( \n",
    "  url, \n",
    "  data=json.dumps(account_info),\n",
    "  headers={'content-type':'application/json'},\n",
    "  )\n",
    "response.json()\n"
   ]
  },
  {
   "cell_type": "code",
   "execution_count": 18,
   "id": "5500074e-c390-4a5c-b7d2-3475d271ef9e",
   "metadata": {},
   "outputs": [],
   "source": [
    "# make purchases for Josh\n",
    "josh_purchase_url = 'http://api.nessieisreal.com/accounts/635dc67178f6910a15f0be9a/purchases?key=162961864e9109ece6a8a8d9e297e003'\n",
    "josh_pur_details_list =[ {\n",
    "  \"merchant_id\": \"57cf75cea73e494d8675f031\",\n",
    "  \"medium\": \"balance\",\n",
    "  \"purchase_date\": \"2022-10-20\",\n",
    "  \"amount\": 100,\n",
    "  \"status\": \"completed\",\n",
    "  \"description\": \"bought drinks\"\n",
    "},\n",
    "\n",
    "{\n",
    "  \"merchant_id\": \"57cf75cea73e494d8675f031\",\n",
    "  \"medium\": \"balance\",\n",
    "  \"purchase_date\": \"2022-10-29\",\n",
    "  \"amount\": 200,\n",
    "  \"status\": \"completed\",\n",
    "  \"description\": \"bought food\"\n",
    "},\n",
    "\n",
    "{\n",
    "  \"merchant_id\": \"57cf75cea73e494d8675f031\",\n",
    "  \"medium\": \"balance\",\n",
    "  \"purchase_date\": \"2022-10-29\",\n",
    "  \"amount\": 300,\n",
    "  \"status\": \"completed\",\n",
    "  \"description\": \"bought food\"\n",
    "},\n",
    "\n",
    "]\n",
    "\n"
   ]
  },
  {
   "cell_type": "code",
   "execution_count": 31,
   "id": "971a196b-b62a-4dcd-ba34-4354227dfa73",
   "metadata": {},
   "outputs": [
    {
     "name": "stdout",
     "output_type": "stream",
     "text": [
      "{'message': 'Created purchase and added it to the account', 'code': 201, 'objectCreated': {'merchant_id': '57cf75cea73e494d8675f031', 'medium': 'balance', 'purchase_date': '2022-10-29', 'amount': 100, 'status': 'pending', 'description': 'bought drinks', 'type': 'merchant', 'payer_id': '635dc67178f6910a15f0be9a', '_id': '635e0c9178f6910a15f0c140'}, 'name': 'Josh'} \n",
      "\n",
      "{'message': 'Created purchase and added it to the account', 'code': 201, 'objectCreated': {'merchant_id': '57cf75cea73e494d8675f031', 'medium': 'balance', 'purchase_date': '2022-10-29', 'amount': 200, 'status': 'pending', 'description': 'bought drinks', 'type': 'merchant', 'payer_id': '635dc67178f6910a15f0be9a', '_id': '635e0c9178f6910a15f0c141'}, 'name': 'Josh'} \n",
      "\n",
      "{'message': 'Created purchase and added it to the account', 'code': 201, 'objectCreated': {'merchant_id': '57cf75cea73e494d8675f031', 'medium': 'balance', 'purchase_date': '2022-10-29', 'amount': 300, 'status': 'pending', 'description': 'bought drinks', 'type': 'merchant', 'payer_id': '635dc67178f6910a15f0be9a', '_id': '635e0c9178f6910a15f0c142'}, 'name': 'Josh'} \n",
      "\n"
     ]
    }
   ],
   "source": [
    "# make those purchases\n",
    "for i in josh_pur_details_list:\n",
    "    response = requests.post( \n",
    "    josh_purchase_url, \n",
    "    data=json.dumps(i),\n",
    "    headers={'content-type':'application/json'},\n",
    "    )\n",
    "    one_response = response.json()\n",
    "    one_response[\"name\"]=\"Josh\"\n",
    "    print(one_response, '\\n')"
   ]
  },
  {
   "cell_type": "code",
   "execution_count": 41,
   "id": "17da438e",
   "metadata": {},
   "outputs": [
    {
     "name": "stdout",
     "output_type": "stream",
     "text": [
      "{'message': 'Created purchase and added it to the account', 'code': 201, 'objectCreated': {'merchant_id': '57cf75cea73e494d8675f031', 'medium': 'balance', 'purchase_date': '2022-10-29', 'amount': 100, 'status': 'pending', 'description': 'bought drinks', 'type': 'merchant', 'payer_id': '635dc67178f6910a15f0be9a', '_id': '635e0e8478f6910a15f0c403', 'name': 'Josh'}} \n",
      "\n",
      "{'message': 'Created purchase and added it to the account', 'code': 201, 'objectCreated': {'merchant_id': '57cf75cea73e494d8675f031', 'medium': 'balance', 'purchase_date': '2022-10-29', 'amount': 200, 'status': 'pending', 'description': 'bought drinks', 'type': 'merchant', 'payer_id': '635dc67178f6910a15f0be9a', '_id': '635e0e8478f6910a15f0c404', 'name': 'Josh'}} \n",
      "\n",
      "{'message': 'Created purchase and added it to the account', 'code': 201, 'objectCreated': {'merchant_id': '57cf75cea73e494d8675f031', 'medium': 'balance', 'purchase_date': '2022-10-29', 'amount': 300, 'status': 'pending', 'description': 'bought drinks', 'type': 'merchant', 'payer_id': '635dc67178f6910a15f0be9a', '_id': '635e0e8478f6910a15f0c405', 'name': 'Josh'}} \n",
      "\n"
     ]
    }
   ],
   "source": [
    "# make those purchases\n",
    "all_response={}\n",
    "for i in josh_pur_details_list:\n",
    "    response = requests.post( \n",
    "    josh_purchase_url, \n",
    "    data=json.dumps(i),\n",
    "    headers={'content-type':'application/json'},\n",
    "    )\n",
    "    one_response = response.json()\n",
    "    one_response[\"objectCreated\"][\"name\"]=\"Josh\"\n",
    "    print(one_response, '\\n') #get the value of objectCreated to be one groups\n",
    "    # how do I use all group into on json?\n",
    "    all_response.update(one_response)"
   ]
  },
  {
   "cell_type": "code",
   "execution_count": 45,
   "id": "bae4b11e",
   "metadata": {},
   "outputs": [
    {
     "data": {
      "text/plain": [
       "{'merchant_id': '57cf75cea73e494d8675f031',\n",
       " 'medium': 'balance',\n",
       " 'purchase_date': '2022-10-29',\n",
       " 'amount': 300,\n",
       " 'status': 'pending',\n",
       " 'description': 'bought drinks',\n",
       " 'type': 'merchant',\n",
       " 'payer_id': '635dc67178f6910a15f0be9a',\n",
       " '_id': '635e0e8478f6910a15f0c405',\n",
       " 'name': 'Josh'}"
      ]
     },
     "execution_count": 45,
     "metadata": {},
     "output_type": "execute_result"
    }
   ],
   "source": [
    "one_response[\"objectCreated\"] \n",
    "# make a list, add all this one_repsonse here?"
   ]
  },
  {
   "cell_type": "code",
   "execution_count": 50,
   "id": "d827a113",
   "metadata": {},
   "outputs": [],
   "source": [
    "data=[\n",
    "    {'merchant_id': '57cf75cea73e494d8675f031',\n",
    " 'medium': 'balance',\n",
    " 'purchase_date': '2022-10-29',\n",
    " 'amount': 300,\n",
    " 'status': 'pending',\n",
    " 'description': 'bought drinks',\n",
    " 'type': 'merchant',\n",
    " 'payer_id': '635dc67178f6910a15f0be9a',\n",
    " '_id': '635e0e8478f6910a15f0c405',\n",
    " 'name': 'Josh'},\n",
    "\n",
    " {'merchant_id': '57cf75cea73e494d8675f031',\n",
    " 'medium': 'balance',\n",
    " 'purchase_date': '2022-10-29',\n",
    " 'amount': 300,\n",
    " 'status': 'pending',\n",
    " 'description': 'bought drinks',\n",
    " 'type': 'merchant',\n",
    " 'payer_id': '635dc67178f6910a15f0be9a',\n",
    " '_id': '635e0e8478f6910a15f0c405',\n",
    " 'name': 'Josh'},\n",
    " \n",
    " {'merchant_id': '57cf75cea73e494d8675f031',\n",
    " 'medium': 'balance',\n",
    " 'purchase_date': '2022-10-29',\n",
    " 'amount': 300,\n",
    " 'status': 'pending',\n",
    " 'description': 'bought drinks',\n",
    " 'type': 'merchant',\n",
    " 'payer_id': '635dc67178f6910a15f0be9a',\n",
    " '_id': '635e0e8478f6910a15f0c405',\n",
    " 'name': 'Josh'}\n",
    " ]"
   ]
  },
  {
   "cell_type": "code",
   "execution_count": 54,
   "id": "f8f6e606",
   "metadata": {},
   "outputs": [
    {
     "data": {
      "text/html": [
       "<div>\n",
       "<style scoped>\n",
       "    .dataframe tbody tr th:only-of-type {\n",
       "        vertical-align: middle;\n",
       "    }\n",
       "\n",
       "    .dataframe tbody tr th {\n",
       "        vertical-align: top;\n",
       "    }\n",
       "\n",
       "    .dataframe thead th {\n",
       "        text-align: right;\n",
       "    }\n",
       "</style>\n",
       "<table border=\"1\" class=\"dataframe\">\n",
       "  <thead>\n",
       "    <tr style=\"text-align: right;\">\n",
       "      <th></th>\n",
       "      <th>merchant_id</th>\n",
       "      <th>medium</th>\n",
       "      <th>purchase_date</th>\n",
       "      <th>amount</th>\n",
       "      <th>status</th>\n",
       "      <th>description</th>\n",
       "      <th>type</th>\n",
       "      <th>payer_id</th>\n",
       "      <th>_id</th>\n",
       "      <th>name</th>\n",
       "    </tr>\n",
       "  </thead>\n",
       "  <tbody>\n",
       "    <tr>\n",
       "      <th>0</th>\n",
       "      <td>57cf75cea73e494d8675f031</td>\n",
       "      <td>balance</td>\n",
       "      <td>2022-10-29</td>\n",
       "      <td>300</td>\n",
       "      <td>pending</td>\n",
       "      <td>bought drinks</td>\n",
       "      <td>merchant</td>\n",
       "      <td>635dc67178f6910a15f0be9a</td>\n",
       "      <td>635e0e8478f6910a15f0c405</td>\n",
       "      <td>Josh</td>\n",
       "    </tr>\n",
       "    <tr>\n",
       "      <th>1</th>\n",
       "      <td>57cf75cea73e494d8675f031</td>\n",
       "      <td>balance</td>\n",
       "      <td>2022-10-29</td>\n",
       "      <td>300</td>\n",
       "      <td>pending</td>\n",
       "      <td>bought drinks</td>\n",
       "      <td>merchant</td>\n",
       "      <td>635dc67178f6910a15f0be9a</td>\n",
       "      <td>635e0e8478f6910a15f0c405</td>\n",
       "      <td>Josh</td>\n",
       "    </tr>\n",
       "    <tr>\n",
       "      <th>2</th>\n",
       "      <td>57cf75cea73e494d8675f031</td>\n",
       "      <td>balance</td>\n",
       "      <td>2022-10-29</td>\n",
       "      <td>300</td>\n",
       "      <td>pending</td>\n",
       "      <td>bought drinks</td>\n",
       "      <td>merchant</td>\n",
       "      <td>635dc67178f6910a15f0be9a</td>\n",
       "      <td>635e0e8478f6910a15f0c405</td>\n",
       "      <td>Josh</td>\n",
       "    </tr>\n",
       "  </tbody>\n",
       "</table>\n",
       "</div>"
      ],
      "text/plain": [
       "                merchant_id   medium purchase_date  amount   status  \\\n",
       "0  57cf75cea73e494d8675f031  balance    2022-10-29     300  pending   \n",
       "1  57cf75cea73e494d8675f031  balance    2022-10-29     300  pending   \n",
       "2  57cf75cea73e494d8675f031  balance    2022-10-29     300  pending   \n",
       "\n",
       "     description      type                  payer_id  \\\n",
       "0  bought drinks  merchant  635dc67178f6910a15f0be9a   \n",
       "1  bought drinks  merchant  635dc67178f6910a15f0be9a   \n",
       "2  bought drinks  merchant  635dc67178f6910a15f0be9a   \n",
       "\n",
       "                        _id  name  \n",
       "0  635e0e8478f6910a15f0c405  Josh  \n",
       "1  635e0e8478f6910a15f0c405  Josh  \n",
       "2  635e0e8478f6910a15f0c405  Josh  "
      ]
     },
     "execution_count": 54,
     "metadata": {},
     "output_type": "execute_result"
    }
   ],
   "source": [
    "df = pd.DataFrame.from_dict(data) # convert json file to dataframe\n",
    "df"
   ]
  },
  {
   "cell_type": "code",
   "execution_count": 55,
   "id": "00e288a6",
   "metadata": {},
   "outputs": [
    {
     "name": "stdout",
     "output_type": "stream",
     "text": [
      "<class 'pandas.core.frame.DataFrame'>\n",
      "RangeIndex: 3 entries, 0 to 2\n",
      "Data columns (total 10 columns):\n",
      " #   Column         Non-Null Count  Dtype \n",
      "---  ------         --------------  ----- \n",
      " 0   merchant_id    3 non-null      object\n",
      " 1   medium         3 non-null      object\n",
      " 2   purchase_date  3 non-null      object\n",
      " 3   amount         3 non-null      int64 \n",
      " 4   status         3 non-null      object\n",
      " 5   description    3 non-null      object\n",
      " 6   type           3 non-null      object\n",
      " 7   payer_id       3 non-null      object\n",
      " 8   _id            3 non-null      object\n",
      " 9   name           3 non-null      object\n",
      "dtypes: int64(1), object(9)\n",
      "memory usage: 196.0+ bytes\n"
     ]
    }
   ],
   "source": [
    "df.info()\n",
    "# sum base on the date, sum base on the name to check if the data is right\n",
    "# groupby date, groupby name"
   ]
  },
  {
   "cell_type": "code",
   "execution_count": 57,
   "id": "0f6e2e33",
   "metadata": {},
   "outputs": [],
   "source": [
    "df[\"purchase_date\"] = pd.to_datetime(df[\"purchase_date\"])\n"
   ]
  },
  {
   "cell_type": "code",
   "execution_count": 58,
   "id": "7ccfbf29",
   "metadata": {},
   "outputs": [
    {
     "name": "stdout",
     "output_type": "stream",
     "text": [
      "<class 'pandas.core.frame.DataFrame'>\n",
      "RangeIndex: 3 entries, 0 to 2\n",
      "Data columns (total 10 columns):\n",
      " #   Column         Non-Null Count  Dtype         \n",
      "---  ------         --------------  -----         \n",
      " 0   merchant_id    3 non-null      object        \n",
      " 1   medium         3 non-null      object        \n",
      " 2   purchase_date  3 non-null      datetime64[ns]\n",
      " 3   amount         3 non-null      int64         \n",
      " 4   status         3 non-null      object        \n",
      " 5   description    3 non-null      object        \n",
      " 6   type           3 non-null      object        \n",
      " 7   payer_id       3 non-null      object        \n",
      " 8   _id            3 non-null      object        \n",
      " 9   name           3 non-null      object        \n",
      "dtypes: datetime64[ns](1), int64(1), object(8)\n",
      "memory usage: 208.0+ bytes\n"
     ]
    }
   ],
   "source": [
    "df.info()"
   ]
  },
  {
   "cell_type": "code",
   "execution_count": 72,
   "id": "96b2a307",
   "metadata": {},
   "outputs": [
    {
     "data": {
      "text/html": [
       "<div>\n",
       "<style scoped>\n",
       "    .dataframe tbody tr th:only-of-type {\n",
       "        vertical-align: middle;\n",
       "    }\n",
       "\n",
       "    .dataframe tbody tr th {\n",
       "        vertical-align: top;\n",
       "    }\n",
       "\n",
       "    .dataframe thead th {\n",
       "        text-align: right;\n",
       "    }\n",
       "</style>\n",
       "<table border=\"1\" class=\"dataframe\">\n",
       "  <thead>\n",
       "    <tr style=\"text-align: right;\">\n",
       "      <th></th>\n",
       "      <th>amount</th>\n",
       "    </tr>\n",
       "    <tr>\n",
       "      <th>name</th>\n",
       "      <th></th>\n",
       "    </tr>\n",
       "  </thead>\n",
       "  <tbody>\n",
       "    <tr>\n",
       "      <th>Josh</th>\n",
       "      <td>900</td>\n",
       "    </tr>\n",
       "  </tbody>\n",
       "</table>\n",
       "</div>"
      ],
      "text/plain": [
       "      amount\n",
       "name        \n",
       "Josh     900"
      ]
     },
     "execution_count": 72,
     "metadata": {},
     "output_type": "execute_result"
    }
   ],
   "source": [
    "df.groupby(df[\"name\"]).sum()\n",
    "# df.sum(axis = 1)"
   ]
  },
  {
   "cell_type": "code",
   "execution_count": 73,
   "id": "7e03833d",
   "metadata": {},
   "outputs": [
    {
     "data": {
      "text/html": [
       "<div>\n",
       "<style scoped>\n",
       "    .dataframe tbody tr th:only-of-type {\n",
       "        vertical-align: middle;\n",
       "    }\n",
       "\n",
       "    .dataframe tbody tr th {\n",
       "        vertical-align: top;\n",
       "    }\n",
       "\n",
       "    .dataframe thead th {\n",
       "        text-align: right;\n",
       "    }\n",
       "</style>\n",
       "<table border=\"1\" class=\"dataframe\">\n",
       "  <thead>\n",
       "    <tr style=\"text-align: right;\">\n",
       "      <th></th>\n",
       "      <th>merchant_id</th>\n",
       "      <th>medium</th>\n",
       "      <th>purchase_date</th>\n",
       "      <th>amount</th>\n",
       "      <th>status</th>\n",
       "      <th>description</th>\n",
       "      <th>type</th>\n",
       "      <th>payer_id</th>\n",
       "      <th>_id</th>\n",
       "      <th>name</th>\n",
       "    </tr>\n",
       "  </thead>\n",
       "  <tbody>\n",
       "    <tr>\n",
       "      <th>0</th>\n",
       "      <td>57cf75cea73e494d8675f031</td>\n",
       "      <td>balance</td>\n",
       "      <td>2022-10-29</td>\n",
       "      <td>300</td>\n",
       "      <td>pending</td>\n",
       "      <td>bought drinks</td>\n",
       "      <td>merchant</td>\n",
       "      <td>635dc67178f6910a15f0be9a</td>\n",
       "      <td>635e0e8478f6910a15f0c405</td>\n",
       "      <td>Josh</td>\n",
       "    </tr>\n",
       "    <tr>\n",
       "      <th>1</th>\n",
       "      <td>57cf75cea73e494d8675f031</td>\n",
       "      <td>balance</td>\n",
       "      <td>2022-10-29</td>\n",
       "      <td>300</td>\n",
       "      <td>pending</td>\n",
       "      <td>bought drinks</td>\n",
       "      <td>merchant</td>\n",
       "      <td>635dc67178f6910a15f0be9a</td>\n",
       "      <td>635e0e8478f6910a15f0c405</td>\n",
       "      <td>Josh</td>\n",
       "    </tr>\n",
       "    <tr>\n",
       "      <th>2</th>\n",
       "      <td>57cf75cea73e494d8675f031</td>\n",
       "      <td>balance</td>\n",
       "      <td>2022-10-29</td>\n",
       "      <td>300</td>\n",
       "      <td>pending</td>\n",
       "      <td>bought drinks</td>\n",
       "      <td>merchant</td>\n",
       "      <td>635dc67178f6910a15f0be9a</td>\n",
       "      <td>635e0e8478f6910a15f0c405</td>\n",
       "      <td>Josh</td>\n",
       "    </tr>\n",
       "  </tbody>\n",
       "</table>\n",
       "</div>"
      ],
      "text/plain": [
       "                merchant_id   medium purchase_date  amount   status  \\\n",
       "0  57cf75cea73e494d8675f031  balance    2022-10-29     300  pending   \n",
       "1  57cf75cea73e494d8675f031  balance    2022-10-29     300  pending   \n",
       "2  57cf75cea73e494d8675f031  balance    2022-10-29     300  pending   \n",
       "\n",
       "     description      type                  payer_id  \\\n",
       "0  bought drinks  merchant  635dc67178f6910a15f0be9a   \n",
       "1  bought drinks  merchant  635dc67178f6910a15f0be9a   \n",
       "2  bought drinks  merchant  635dc67178f6910a15f0be9a   \n",
       "\n",
       "                        _id  name  \n",
       "0  635e0e8478f6910a15f0c405  Josh  \n",
       "1  635e0e8478f6910a15f0c405  Josh  \n",
       "2  635e0e8478f6910a15f0c405  Josh  "
      ]
     },
     "execution_count": 73,
     "metadata": {},
     "output_type": "execute_result"
    }
   ],
   "source": [
    "df"
   ]
  },
  {
   "cell_type": "code",
   "execution_count": null,
   "id": "6862274b",
   "metadata": {},
   "outputs": [],
   "source": [
    "sum(axis = 1)"
   ]
  },
  {
   "cell_type": "code",
   "execution_count": 63,
   "id": "677c3abd",
   "metadata": {},
   "outputs": [
    {
     "data": {
      "text/plain": [
       "[<matplotlib.lines.Line2D at 0x137464a8>]"
      ]
     },
     "execution_count": 63,
     "metadata": {},
     "output_type": "execute_result"
    },
    {
     "data": {
      "image/png": "[encoded data removed]",
      "text/plain": [
       "<Figure size 432x288 with 1 Axes>"
      ]
     },
     "metadata": {
      "needs_background": "light"
     },
     "output_type": "display_data"
    }
   ],
   "source": [
    "import matplotlib.pyplot as plt\n",
    "plt.plot(df[\"purchase_date\"], df[\"amount\"])"
   ]
  },
  {
   "cell_type": "code",
   "execution_count": 56,
   "id": "46ebfa2b",
   "metadata": {},
   "outputs": [
    {
     "data": {
      "text/plain": [
       "<AxesSubplot:>"
      ]
     },
     "execution_count": 56,
     "metadata": {},
     "output_type": "execute_result"
    },
    {
     "data": {
      "image/png": "[encoded data removed]",
      "text/plain": [
       "<Figure size 432x288 with 1 Axes>"
      ]
     },
     "metadata": {
      "needs_background": "light"
     },
     "output_type": "display_data"
    }
   ],
   "source": [
    "df.plot()"
   ]
  },
  {
   "cell_type": "code",
   "execution_count": 51,
   "id": "57010898",
   "metadata": {},
   "outputs": [
    {
     "data": {
      "text/plain": [
       "'[{\"merchant_id\": \"57cf75cea73e494d8675f031\", \"medium\": \"balance\", \"purchase_date\": \"2022-10-29\", \"amount\": 300, \"status\": \"pending\", \"description\": \"bought drinks\", \"type\": \"merchant\", \"payer_id\": \"635dc67178f6910a15f0be9a\", \"_id\": \"635e0e8478f6910a15f0c405\", \"name\": \"Josh\"}, {\"merchant_id\": \"57cf75cea73e494d8675f031\", \"medium\": \"balance\", \"purchase_date\": \"2022-10-29\", \"amount\": 300, \"status\": \"pending\", \"description\": \"bought drinks\", \"type\": \"merchant\", \"payer_id\": \"635dc67178f6910a15f0be9a\", \"_id\": \"635e0e8478f6910a15f0c405\", \"name\": \"Josh\"}, {\"merchant_id\": \"57cf75cea73e494d8675f031\", \"medium\": \"balance\", \"purchase_date\": \"2022-10-29\", \"amount\": 300, \"status\": \"pending\", \"description\": \"bought drinks\", \"type\": \"merchant\", \"payer_id\": \"635dc67178f6910a15f0be9a\", \"_id\": \"635e0e8478f6910a15f0c405\", \"name\": \"Josh\"}]'"
      ]
     },
     "execution_count": 51,
     "metadata": {},
     "output_type": "execute_result"
    }
   ],
   "source": [
    "import json\n",
    "json.dumps(data)"
   ]
  },
  {
   "cell_type": "code",
   "execution_count": 46,
   "id": "25c6306d",
   "metadata": {},
   "outputs": [
    {
     "ename": "ValueError",
     "evalue": "If using all scalar values, you must pass an index",
     "output_type": "error",
     "traceback": [
      "\u001b[1;31m---------------------------------------------------------------------------\u001b[0m",
      "\u001b[1;31mValueError\u001b[0m                                Traceback (most recent call last)",
      "\u001b[1;32m~\\AppData\\Local\\Temp/ipykernel_11140/2338348076.py\u001b[0m in \u001b[0;36m<module>\u001b[1;34m\u001b[0m\n\u001b[1;32m----> 1\u001b[1;33m \u001b[0mdf\u001b[0m \u001b[1;33m=\u001b[0m \u001b[0mpd\u001b[0m\u001b[1;33m.\u001b[0m\u001b[0mDataFrame\u001b[0m\u001b[1;33m(\u001b[0m\u001b[0mone_response\u001b[0m\u001b[1;33m[\u001b[0m\u001b[1;34m\"objectCreated\"\u001b[0m\u001b[1;33m]\u001b[0m\u001b[1;33m)\u001b[0m\u001b[1;33m\u001b[0m\u001b[1;33m\u001b[0m\u001b[0m\n\u001b[0m",
      "\u001b[1;32mc:\\Users\\lingz\\AppData\\Local\\Programs\\Python\\Python39-32\\lib\\site-packages\\pandas\\core\\frame.py\u001b[0m in \u001b[0;36m__init__\u001b[1;34m(self, data, index, columns, dtype, copy)\u001b[0m\n\u001b[0;32m    612\u001b[0m         \u001b[1;32melif\u001b[0m \u001b[0misinstance\u001b[0m\u001b[1;33m(\u001b[0m\u001b[0mdata\u001b[0m\u001b[1;33m,\u001b[0m \u001b[0mdict\u001b[0m\u001b[1;33m)\u001b[0m\u001b[1;33m:\u001b[0m\u001b[1;33m\u001b[0m\u001b[1;33m\u001b[0m\u001b[0m\n\u001b[0;32m    613\u001b[0m             \u001b[1;31m# GH#38939 de facto copy defaults to False only in non-dict cases\u001b[0m\u001b[1;33m\u001b[0m\u001b[1;33m\u001b[0m\u001b[1;33m\u001b[0m\u001b[0m\n\u001b[1;32m--> 614\u001b[1;33m             \u001b[0mmgr\u001b[0m \u001b[1;33m=\u001b[0m \u001b[0mdict_to_mgr\u001b[0m\u001b[1;33m(\u001b[0m\u001b[0mdata\u001b[0m\u001b[1;33m,\u001b[0m \u001b[0mindex\u001b[0m\u001b[1;33m,\u001b[0m \u001b[0mcolumns\u001b[0m\u001b[1;33m,\u001b[0m \u001b[0mdtype\u001b[0m\u001b[1;33m=\u001b[0m\u001b[0mdtype\u001b[0m\u001b[1;33m,\u001b[0m \u001b[0mcopy\u001b[0m\u001b[1;33m=\u001b[0m\u001b[0mcopy\u001b[0m\u001b[1;33m,\u001b[0m \u001b[0mtyp\u001b[0m\u001b[1;33m=\u001b[0m\u001b[0mmanager\u001b[0m\u001b[1;33m)\u001b[0m\u001b[1;33m\u001b[0m\u001b[1;33m\u001b[0m\u001b[0m\n\u001b[0m\u001b[0;32m    615\u001b[0m         \u001b[1;32melif\u001b[0m \u001b[0misinstance\u001b[0m\u001b[1;33m(\u001b[0m\u001b[0mdata\u001b[0m\u001b[1;33m,\u001b[0m \u001b[0mma\u001b[0m\u001b[1;33m.\u001b[0m\u001b[0mMaskedArray\u001b[0m\u001b[1;33m)\u001b[0m\u001b[1;33m:\u001b[0m\u001b[1;33m\u001b[0m\u001b[1;33m\u001b[0m\u001b[0m\n\u001b[0;32m    616\u001b[0m             \u001b[1;32mimport\u001b[0m \u001b[0mnumpy\u001b[0m\u001b[1;33m.\u001b[0m\u001b[0mma\u001b[0m\u001b[1;33m.\u001b[0m\u001b[0mmrecords\u001b[0m \u001b[1;32mas\u001b[0m \u001b[0mmrecords\u001b[0m\u001b[1;33m\u001b[0m\u001b[1;33m\u001b[0m\u001b[0m\n",
      "\u001b[1;32mc:\\Users\\lingz\\AppData\\Local\\Programs\\Python\\Python39-32\\lib\\site-packages\\pandas\\core\\internals\\construction.py\u001b[0m in \u001b[0;36mdict_to_mgr\u001b[1;34m(data, index, columns, dtype, typ, copy)\u001b[0m\n\u001b[0;32m    462\u001b[0m         \u001b[1;31m# TODO: can we get rid of the dt64tz special case above?\u001b[0m\u001b[1;33m\u001b[0m\u001b[1;33m\u001b[0m\u001b[1;33m\u001b[0m\u001b[0m\n\u001b[0;32m    463\u001b[0m \u001b[1;33m\u001b[0m\u001b[0m\n\u001b[1;32m--> 464\u001b[1;33m     return arrays_to_mgr(\n\u001b[0m\u001b[0;32m    465\u001b[0m         \u001b[0marrays\u001b[0m\u001b[1;33m,\u001b[0m \u001b[0mdata_names\u001b[0m\u001b[1;33m,\u001b[0m \u001b[0mindex\u001b[0m\u001b[1;33m,\u001b[0m \u001b[0mcolumns\u001b[0m\u001b[1;33m,\u001b[0m \u001b[0mdtype\u001b[0m\u001b[1;33m=\u001b[0m\u001b[0mdtype\u001b[0m\u001b[1;33m,\u001b[0m \u001b[0mtyp\u001b[0m\u001b[1;33m=\u001b[0m\u001b[0mtyp\u001b[0m\u001b[1;33m,\u001b[0m \u001b[0mconsolidate\u001b[0m\u001b[1;33m=\u001b[0m\u001b[0mcopy\u001b[0m\u001b[1;33m\u001b[0m\u001b[1;33m\u001b[0m\u001b[0m\n\u001b[0;32m    466\u001b[0m     )\n",
      "\u001b[1;32mc:\\Users\\lingz\\AppData\\Local\\Programs\\Python\\Python39-32\\lib\\site-packages\\pandas\\core\\internals\\construction.py\u001b[0m in \u001b[0;36marrays_to_mgr\u001b[1;34m(arrays, arr_names, index, columns, dtype, verify_integrity, typ, consolidate)\u001b[0m\n\u001b[0;32m    117\u001b[0m         \u001b[1;31m# figure out the index, if necessary\u001b[0m\u001b[1;33m\u001b[0m\u001b[1;33m\u001b[0m\u001b[1;33m\u001b[0m\u001b[0m\n\u001b[0;32m    118\u001b[0m         \u001b[1;32mif\u001b[0m \u001b[0mindex\u001b[0m \u001b[1;32mis\u001b[0m \u001b[1;32mNone\u001b[0m\u001b[1;33m:\u001b[0m\u001b[1;33m\u001b[0m\u001b[1;33m\u001b[0m\u001b[0m\n\u001b[1;32m--> 119\u001b[1;33m             \u001b[0mindex\u001b[0m \u001b[1;33m=\u001b[0m \u001b[0m_extract_index\u001b[0m\u001b[1;33m(\u001b[0m\u001b[0marrays\u001b[0m\u001b[1;33m)\u001b[0m\u001b[1;33m\u001b[0m\u001b[1;33m\u001b[0m\u001b[0m\n\u001b[0m\u001b[0;32m    120\u001b[0m         \u001b[1;32melse\u001b[0m\u001b[1;33m:\u001b[0m\u001b[1;33m\u001b[0m\u001b[1;33m\u001b[0m\u001b[0m\n\u001b[0;32m    121\u001b[0m             \u001b[0mindex\u001b[0m \u001b[1;33m=\u001b[0m \u001b[0mensure_index\u001b[0m\u001b[1;33m(\u001b[0m\u001b[0mindex\u001b[0m\u001b[1;33m)\u001b[0m\u001b[1;33m\u001b[0m\u001b[1;33m\u001b[0m\u001b[0m\n",
      "\u001b[1;32mc:\\Users\\lingz\\AppData\\Local\\Programs\\Python\\Python39-32\\lib\\site-packages\\pandas\\core\\internals\\construction.py\u001b[0m in \u001b[0;36m_extract_index\u001b[1;34m(data)\u001b[0m\n\u001b[0;32m    623\u001b[0m \u001b[1;33m\u001b[0m\u001b[0m\n\u001b[0;32m    624\u001b[0m         \u001b[1;32mif\u001b[0m \u001b[1;32mnot\u001b[0m \u001b[0mindexes\u001b[0m \u001b[1;32mand\u001b[0m \u001b[1;32mnot\u001b[0m \u001b[0mraw_lengths\u001b[0m\u001b[1;33m:\u001b[0m\u001b[1;33m\u001b[0m\u001b[1;33m\u001b[0m\u001b[0m\n\u001b[1;32m--> 625\u001b[1;33m             \u001b[1;32mraise\u001b[0m \u001b[0mValueError\u001b[0m\u001b[1;33m(\u001b[0m\u001b[1;34m\"If using all scalar values, you must pass an index\"\u001b[0m\u001b[1;33m)\u001b[0m\u001b[1;33m\u001b[0m\u001b[1;33m\u001b[0m\u001b[0m\n\u001b[0m\u001b[0;32m    626\u001b[0m \u001b[1;33m\u001b[0m\u001b[0m\n\u001b[0;32m    627\u001b[0m         \u001b[1;32mif\u001b[0m \u001b[0mhave_series\u001b[0m\u001b[1;33m:\u001b[0m\u001b[1;33m\u001b[0m\u001b[1;33m\u001b[0m\u001b[0m\n",
      "\u001b[1;31mValueError\u001b[0m: If using all scalar values, you must pass an index"
     ]
    }
   ],
   "source": [
    "df = pd.DataFrame(one_response[\"objectCreated\"])"
   ]
  },
  {
   "cell_type": "code",
   "execution_count": 47,
   "id": "2430b6b3",
   "metadata": {},
   "outputs": [
    {
     "ename": "ValueError",
     "evalue": "If using all scalar values, you must pass an index",
     "output_type": "error",
     "traceback": [
      "\u001b[1;31m---------------------------------------------------------------------------\u001b[0m",
      "\u001b[1;31mValueError\u001b[0m                                Traceback (most recent call last)",
      "\u001b[1;32m~\\AppData\\Local\\Temp/ipykernel_11140/3036003066.py\u001b[0m in \u001b[0;36m<module>\u001b[1;34m\u001b[0m\n\u001b[1;32m----> 1\u001b[1;33m \u001b[0mpd\u001b[0m\u001b[1;33m.\u001b[0m\u001b[0mDataFrame\u001b[0m\u001b[1;33m.\u001b[0m\u001b[0mfrom_records\u001b[0m\u001b[1;33m(\u001b[0m\u001b[0mone_response\u001b[0m\u001b[1;33m[\u001b[0m\u001b[1;34m\"objectCreated\"\u001b[0m\u001b[1;33m]\u001b[0m\u001b[1;33m)\u001b[0m\u001b[1;33m\u001b[0m\u001b[1;33m\u001b[0m\u001b[0m\n\u001b[0m",
      "\u001b[1;32mc:\\Users\\lingz\\AppData\\Local\\Programs\\Python\\Python39-32\\lib\\site-packages\\pandas\\core\\frame.py\u001b[0m in \u001b[0;36mfrom_records\u001b[1;34m(cls, data, index, exclude, columns, coerce_float, nrows)\u001b[0m\n\u001b[0;32m   2120\u001b[0m \u001b[1;33m\u001b[0m\u001b[0m\n\u001b[0;32m   2121\u001b[0m         \u001b[0mmanager\u001b[0m \u001b[1;33m=\u001b[0m \u001b[0mget_option\u001b[0m\u001b[1;33m(\u001b[0m\u001b[1;34m\"mode.data_manager\"\u001b[0m\u001b[1;33m)\u001b[0m\u001b[1;33m\u001b[0m\u001b[1;33m\u001b[0m\u001b[0m\n\u001b[1;32m-> 2122\u001b[1;33m         \u001b[0mmgr\u001b[0m \u001b[1;33m=\u001b[0m \u001b[0marrays_to_mgr\u001b[0m\u001b[1;33m(\u001b[0m\u001b[0marrays\u001b[0m\u001b[1;33m,\u001b[0m \u001b[0marr_columns\u001b[0m\u001b[1;33m,\u001b[0m \u001b[0mresult_index\u001b[0m\u001b[1;33m,\u001b[0m \u001b[0mcolumns\u001b[0m\u001b[1;33m,\u001b[0m \u001b[0mtyp\u001b[0m\u001b[1;33m=\u001b[0m\u001b[0mmanager\u001b[0m\u001b[1;33m)\u001b[0m\u001b[1;33m\u001b[0m\u001b[1;33m\u001b[0m\u001b[0m\n\u001b[0m\u001b[0;32m   2123\u001b[0m \u001b[1;33m\u001b[0m\u001b[0m\n\u001b[0;32m   2124\u001b[0m         \u001b[1;32mreturn\u001b[0m \u001b[0mcls\u001b[0m\u001b[1;33m(\u001b[0m\u001b[0mmgr\u001b[0m\u001b[1;33m)\u001b[0m\u001b[1;33m\u001b[0m\u001b[1;33m\u001b[0m\u001b[0m\n",
      "\u001b[1;32mc:\\Users\\lingz\\AppData\\Local\\Programs\\Python\\Python39-32\\lib\\site-packages\\pandas\\core\\internals\\construction.py\u001b[0m in \u001b[0;36marrays_to_mgr\u001b[1;34m(arrays, arr_names, index, columns, dtype, verify_integrity, typ, consolidate)\u001b[0m\n\u001b[0;32m    117\u001b[0m         \u001b[1;31m# figure out the index, if necessary\u001b[0m\u001b[1;33m\u001b[0m\u001b[1;33m\u001b[0m\u001b[1;33m\u001b[0m\u001b[0m\n\u001b[0;32m    118\u001b[0m         \u001b[1;32mif\u001b[0m \u001b[0mindex\u001b[0m \u001b[1;32mis\u001b[0m \u001b[1;32mNone\u001b[0m\u001b[1;33m:\u001b[0m\u001b[1;33m\u001b[0m\u001b[1;33m\u001b[0m\u001b[0m\n\u001b[1;32m--> 119\u001b[1;33m             \u001b[0mindex\u001b[0m \u001b[1;33m=\u001b[0m \u001b[0m_extract_index\u001b[0m\u001b[1;33m(\u001b[0m\u001b[0marrays\u001b[0m\u001b[1;33m)\u001b[0m\u001b[1;33m\u001b[0m\u001b[1;33m\u001b[0m\u001b[0m\n\u001b[0m\u001b[0;32m    120\u001b[0m         \u001b[1;32melse\u001b[0m\u001b[1;33m:\u001b[0m\u001b[1;33m\u001b[0m\u001b[1;33m\u001b[0m\u001b[0m\n\u001b[0;32m    121\u001b[0m             \u001b[0mindex\u001b[0m \u001b[1;33m=\u001b[0m \u001b[0mensure_index\u001b[0m\u001b[1;33m(\u001b[0m\u001b[0mindex\u001b[0m\u001b[1;33m)\u001b[0m\u001b[1;33m\u001b[0m\u001b[1;33m\u001b[0m\u001b[0m\n",
      "\u001b[1;32mc:\\Users\\lingz\\AppData\\Local\\Programs\\Python\\Python39-32\\lib\\site-packages\\pandas\\core\\internals\\construction.py\u001b[0m in \u001b[0;36m_extract_index\u001b[1;34m(data)\u001b[0m\n\u001b[0;32m    623\u001b[0m \u001b[1;33m\u001b[0m\u001b[0m\n\u001b[0;32m    624\u001b[0m         \u001b[1;32mif\u001b[0m \u001b[1;32mnot\u001b[0m \u001b[0mindexes\u001b[0m \u001b[1;32mand\u001b[0m \u001b[1;32mnot\u001b[0m \u001b[0mraw_lengths\u001b[0m\u001b[1;33m:\u001b[0m\u001b[1;33m\u001b[0m\u001b[1;33m\u001b[0m\u001b[0m\n\u001b[1;32m--> 625\u001b[1;33m             \u001b[1;32mraise\u001b[0m \u001b[0mValueError\u001b[0m\u001b[1;33m(\u001b[0m\u001b[1;34m\"If using all scalar values, you must pass an index\"\u001b[0m\u001b[1;33m)\u001b[0m\u001b[1;33m\u001b[0m\u001b[1;33m\u001b[0m\u001b[0m\n\u001b[0m\u001b[0;32m    626\u001b[0m \u001b[1;33m\u001b[0m\u001b[0m\n\u001b[0;32m    627\u001b[0m         \u001b[1;32mif\u001b[0m \u001b[0mhave_series\u001b[0m\u001b[1;33m:\u001b[0m\u001b[1;33m\u001b[0m\u001b[1;33m\u001b[0m\u001b[0m\n",
      "\u001b[1;31mValueError\u001b[0m: If using all scalar values, you must pass an index"
     ]
    }
   ],
   "source": [
    "pd.DataFrame.from_records(one_response[\"objectCreated\"])\n"
   ]
  },
  {
   "cell_type": "code",
   "execution_count": 48,
   "id": "c6390864",
   "metadata": {},
   "outputs": [
    {
     "data": {
      "text/html": [
       "<div>\n",
       "<style scoped>\n",
       "    .dataframe tbody tr th:only-of-type {\n",
       "        vertical-align: middle;\n",
       "    }\n",
       "\n",
       "    .dataframe tbody tr th {\n",
       "        vertical-align: top;\n",
       "    }\n",
       "\n",
       "    .dataframe thead th {\n",
       "        text-align: right;\n",
       "    }\n",
       "</style>\n",
       "<table border=\"1\" class=\"dataframe\">\n",
       "  <thead>\n",
       "    <tr style=\"text-align: right;\">\n",
       "      <th></th>\n",
       "      <th>_id</th>\n",
       "      <th>name</th>\n",
       "      <th>category</th>\n",
       "      <th>geocode</th>\n",
       "      <th>address</th>\n",
       "      <th>creation_date</th>\n",
       "    </tr>\n",
       "  </thead>\n",
       "  <tbody>\n",
       "    <tr>\n",
       "      <th>0</th>\n",
       "      <td>57cf75cea73e494d8675f031</td>\n",
       "      <td>Beacon Hill Hotel &amp; Bistro</td>\n",
       "      <td>[bar, lodging, restaurant, food, point_of_inte...</td>\n",
       "      <td>{'lat': 42.3569241, 'lng': -71.0696907}</td>\n",
       "      <td>{'zip': '02114', 'city': 'Boston', 'street num...</td>\n",
       "      <td>NaN</td>\n",
       "    </tr>\n",
       "    <tr>\n",
       "      <th>1</th>\n",
       "      <td>57cf75cea73e494d8675f032</td>\n",
       "      <td>The Inn At Longwood Medical</td>\n",
       "      <td>[lodging, restaurant, food, point_of_interest,...</td>\n",
       "      <td>{'lat': 42.3382709, 'lng': -71.1064504}</td>\n",
       "      <td>{'zip': '02115', 'city': 'Boston', 'street num...</td>\n",
       "      <td>NaN</td>\n",
       "    </tr>\n",
       "    <tr>\n",
       "      <th>2</th>\n",
       "      <td>57cf75cea73e494d8675f033</td>\n",
       "      <td>The Langham, Boston</td>\n",
       "      <td>[night_club, bar, spa, lodging, restaurant, fo...</td>\n",
       "      <td>{'lat': 42.35648199999999, 'lng': -71.0545009}</td>\n",
       "      <td>{'zip': '02110', 'city': 'Boston', 'street num...</td>\n",
       "      <td>NaN</td>\n",
       "    </tr>\n",
       "    <tr>\n",
       "      <th>3</th>\n",
       "      <td>57cf75cea73e494d8675f034</td>\n",
       "      <td>Hilton Boston Downtown/Faneuil Hall</td>\n",
       "      <td>[lodging, restaurant, food, point_of_interest,...</td>\n",
       "      <td>{'lat': 42.3572855, 'lng': -71.0534591}</td>\n",
       "      <td>{'zip': '02110', 'city': 'Boston', 'street num...</td>\n",
       "      <td>NaN</td>\n",
       "    </tr>\n",
       "    <tr>\n",
       "      <th>4</th>\n",
       "      <td>57cf75cea73e494d8675f036</td>\n",
       "      <td>Renaissance Boston Waterfront Hotel</td>\n",
       "      <td>[bar, lodging, restaurant, food, point_of_inte...</td>\n",
       "      <td>{'lat': 42.34804659999999, 'lng': -71.0390674}</td>\n",
       "      <td>{'zip': '02210', 'city': 'Boston', 'street num...</td>\n",
       "      <td>NaN</td>\n",
       "    </tr>\n",
       "    <tr>\n",
       "      <th>...</th>\n",
       "      <td>...</td>\n",
       "      <td>...</td>\n",
       "      <td>...</td>\n",
       "      <td>...</td>\n",
       "      <td>...</td>\n",
       "      <td>...</td>\n",
       "    </tr>\n",
       "    <tr>\n",
       "      <th>95</th>\n",
       "      <td>57cf75cea73e494d8675f0d6</td>\n",
       "      <td>Trader Joe's</td>\n",
       "      <td>[grocery_or_supermarket, liquor_store, florist...</td>\n",
       "      <td>{'lat': 42.34183979999999, 'lng': -71.1203772}</td>\n",
       "      <td>{'zip': '02446', 'city': 'Brookline', 'street ...</td>\n",
       "      <td>NaN</td>\n",
       "    </tr>\n",
       "    <tr>\n",
       "      <th>96</th>\n",
       "      <td>57cf75cea73e494d8675f0da</td>\n",
       "      <td>Sprint Store</td>\n",
       "      <td>[electronics_store, store, point_of_interest, ...</td>\n",
       "      <td>{'lat': 42.35119890000001, 'lng': -71.0727619}</td>\n",
       "      <td>{'zip': '02116', 'city': 'Boston', 'street num...</td>\n",
       "      <td>NaN</td>\n",
       "    </tr>\n",
       "    <tr>\n",
       "      <th>97</th>\n",
       "      <td>57cf75cea73e494d8675f0d9</td>\n",
       "      <td>Tavern In The Square</td>\n",
       "      <td>[bar, restaurant, food, point_of_interest, est...</td>\n",
       "      <td>{'lat': 42.35330309999999, 'lng': -71.1326374}</td>\n",
       "      <td>{'zip': '02134', 'city': 'Boston', 'street num...</td>\n",
       "      <td>NaN</td>\n",
       "    </tr>\n",
       "    <tr>\n",
       "      <th>98</th>\n",
       "      <td>57cf75cea73e494d8675f0db</td>\n",
       "      <td>Target</td>\n",
       "      <td>[department_store, electronics_store, clothing...</td>\n",
       "      <td>{'lat': 42.0341133, 'lng': -71.31057489999999}</td>\n",
       "      <td>{'zip': '02762', 'city': 'Plainville', 'street...</td>\n",
       "      <td>NaN</td>\n",
       "    </tr>\n",
       "    <tr>\n",
       "      <th>99</th>\n",
       "      <td>57cf75cea73e494d8675f0de</td>\n",
       "      <td>Bob's Discount Furniture</td>\n",
       "      <td>[furniture_store, home_goods_store, store, poi...</td>\n",
       "      <td>{'lat': 42.15065929999999, 'lng': -71.0662153}</td>\n",
       "      <td>{'zip': '02072', 'city': 'Stoughton', 'street ...</td>\n",
       "      <td>NaN</td>\n",
       "    </tr>\n",
       "  </tbody>\n",
       "</table>\n",
       "<p>100 rows × 6 columns</p>\n",
       "</div>"
      ],
      "text/plain": [
       "                         _id                                 name  \\\n",
       "0   57cf75cea73e494d8675f031           Beacon Hill Hotel & Bistro   \n",
       "1   57cf75cea73e494d8675f032          The Inn At Longwood Medical   \n",
       "2   57cf75cea73e494d8675f033                  The Langham, Boston   \n",
       "3   57cf75cea73e494d8675f034  Hilton Boston Downtown/Faneuil Hall   \n",
       "4   57cf75cea73e494d8675f036  Renaissance Boston Waterfront Hotel   \n",
       "..                       ...                                  ...   \n",
       "95  57cf75cea73e494d8675f0d6                         Trader Joe's   \n",
       "96  57cf75cea73e494d8675f0da                         Sprint Store   \n",
       "97  57cf75cea73e494d8675f0d9                 Tavern In The Square   \n",
       "98  57cf75cea73e494d8675f0db                               Target   \n",
       "99  57cf75cea73e494d8675f0de             Bob's Discount Furniture   \n",
       "\n",
       "                                             category  \\\n",
       "0   [bar, lodging, restaurant, food, point_of_inte...   \n",
       "1   [lodging, restaurant, food, point_of_interest,...   \n",
       "2   [night_club, bar, spa, lodging, restaurant, fo...   \n",
       "3   [lodging, restaurant, food, point_of_interest,...   \n",
       "4   [bar, lodging, restaurant, food, point_of_inte...   \n",
       "..                                                ...   \n",
       "95  [grocery_or_supermarket, liquor_store, florist...   \n",
       "96  [electronics_store, store, point_of_interest, ...   \n",
       "97  [bar, restaurant, food, point_of_interest, est...   \n",
       "98  [department_store, electronics_store, clothing...   \n",
       "99  [furniture_store, home_goods_store, store, poi...   \n",
       "\n",
       "                                           geocode  \\\n",
       "0          {'lat': 42.3569241, 'lng': -71.0696907}   \n",
       "1          {'lat': 42.3382709, 'lng': -71.1064504}   \n",
       "2   {'lat': 42.35648199999999, 'lng': -71.0545009}   \n",
       "3          {'lat': 42.3572855, 'lng': -71.0534591}   \n",
       "4   {'lat': 42.34804659999999, 'lng': -71.0390674}   \n",
       "..                                             ...   \n",
       "95  {'lat': 42.34183979999999, 'lng': -71.1203772}   \n",
       "96  {'lat': 42.35119890000001, 'lng': -71.0727619}   \n",
       "97  {'lat': 42.35330309999999, 'lng': -71.1326374}   \n",
       "98  {'lat': 42.0341133, 'lng': -71.31057489999999}   \n",
       "99  {'lat': 42.15065929999999, 'lng': -71.0662153}   \n",
       "\n",
       "                                              address creation_date  \n",
       "0   {'zip': '02114', 'city': 'Boston', 'street num...           NaN  \n",
       "1   {'zip': '02115', 'city': 'Boston', 'street num...           NaN  \n",
       "2   {'zip': '02110', 'city': 'Boston', 'street num...           NaN  \n",
       "3   {'zip': '02110', 'city': 'Boston', 'street num...           NaN  \n",
       "4   {'zip': '02210', 'city': 'Boston', 'street num...           NaN  \n",
       "..                                                ...           ...  \n",
       "95  {'zip': '02446', 'city': 'Brookline', 'street ...           NaN  \n",
       "96  {'zip': '02116', 'city': 'Boston', 'street num...           NaN  \n",
       "97  {'zip': '02134', 'city': 'Boston', 'street num...           NaN  \n",
       "98  {'zip': '02762', 'city': 'Plainville', 'street...           NaN  \n",
       "99  {'zip': '02072', 'city': 'Stoughton', 'street ...           NaN  \n",
       "\n",
       "[100 rows x 6 columns]"
      ]
     },
     "execution_count": 48,
     "metadata": {},
     "output_type": "execute_result"
    }
   ],
   "source": [
    "url = 'http://api.nessieisreal.com/merchants?lat=42&lng=-71&rad=25&key=3082fde6c2b312a096ca60721a12c065'\n",
    "\n",
    "resp = requests.get(url)\n",
    "# print(resp.json())\n",
    "# data = pd.read_json(resp.json(), orient='list')\n",
    "pd.DataFrame.from_records(resp.json()).head(100)\n",
    "# or pd.json_normalize(data)\n"
   ]
  },
  {
   "cell_type": "code",
   "execution_count": null,
   "id": "c8618c63",
   "metadata": {},
   "outputs": [],
   "source": [
    "58d7eb841756fc834d909e0f  groceries\n",
    "57cf75cea73e494d8675f031 food\n",
    "57cf75cea73e494d8675f031 food\n",
    "57cf75cea73e494d8675f034 lodging\n",
    "57cf75cea73e494d8675f033 spa\n",
    "57cf75cea73e494d8675f036 food\n",
    "\n"
   ]
  },
  {
   "cell_type": "code",
   "execution_count": null,
   "id": "cd2ab8ce",
   "metadata": {},
   "outputs": [],
   "source": [
    "# chose day 10/20-10/29\n",
    "# one person make one transaction a day\n",
    "# chose any catagory from the list, random list\n",
    "{\n",
    "  \"merchant_id\": \"57cf75cea73e494d8675f031\",\n",
    "  \"medium\": \"balance\",\n",
    "  \"purchase_date\": \"2022-10-29\",\n",
    "  \"amount\": 300,\n",
    "  \"status\": \"completed\",\n",
    "  \"description\": \"bought food\"\n",
    "},\n",
    "\n",
    "# Random balamce, status all completed\n"
   ]
  },
  {
   "cell_type": "code",
   "execution_count": null,
   "id": "d6c27f0b",
   "metadata": {},
   "outputs": [],
   "source": [
    "import json\n",
    "from os import path\n",
    "# filename = '\"C://Users//lingz//Downloads//BostonHack\"'\n",
    "\n",
    "\n",
    "# listObj = []\n",
    "# json_object = json.dumps(all_response)\n",
    " \n",
    "# Writing to sample.json\n",
    "# with open(\"sample.json\", \"w\") as outfile:\n",
    "#     outfile.write(json_object)\n",
    "\n",
    "\n",
    "with open(\"data_file.json\", \"w\") as write_file:\n",
    "    json.dump(data, write_file)"
   ]
  },
  {
   "cell_type": "code",
   "execution_count": null,
   "id": "5e5adeee-d28a-4a7f-9ddd-14bf95a6e0b8",
   "metadata": {},
   "outputs": [],
   "source": [
    "[\n",
    "  {\n",
    "    \"_id\": \"635da98278f6910a15f0be7e\",\n",
    "    \"type\": \"Credit Card\",\n",
    "    \"nickname\": \"Drink Department\",\n",
    "    \"rewards\": 100,\n",
    "    \"balance\": 1000,\n",
    "    \"account_number\": \"0011223300112233\",\n",
    "    \"customer_id\": \"635d9cf278f6910a15f0be6b\"\n",
    "  },\n",
    "  {\n",
    "    \"_id\": \"635da9f178f6910a15f0be7f\",\n",
    "    \"type\": \"Credit Card\",\n",
    "    \"nickname\": \"Drink Department\",\n",
    "    \"rewards\": 100,\n",
    "    \"balance\": 1000,\n",
    "    \"account_number\": \"0011223300112233\",\n",
    "    \"customer_id\": \"635d9cf278f6910a15f0be6b\"\n",
    "  },\n",
    "  {\n",
    "    \"_id\": \"635daa0c78f6910a15f0be80\",\n",
    "    \"type\": \"Credit Card\",\n",
    "    \"nickname\": \"Food Budget\",\n",
    "    \"rewards\": 100,\n",
    "    \"balance\": 1000,\n",
    "    \"account_number\": \"1234567891234569\",\n",
    "    \"customer_id\": \"635d9cf278f6910a15f0be6d\"\n",
    "  },\n",
    "  {\n",
    "    \"_id\": \"635daae178f6910a15f0be83\",\n",
    "    \"type\": \"Credit Card\",\n",
    "    \"nickname\": \"Food Budget\",\n",
    "    \"rewards\": 100,\n",
    "    \"balance\": 1000,\n",
    "    \"account_number\": \"1234567891234569\",\n",
    "    \"customer_id\": \"635d9cf278f6910a15f0be6d\"\n",
    "  },\n",
    "  {\n",
    "    \"_id\": \"635dab1278f6910a15f0be84\",\n",
    "    \"type\": \"Credit Card\",\n",
    "    \"nickname\": \"Drink Department\",\n",
    "    \"rewards\": 100,\n",
    "    \"balance\": 1000,\n",
    "    \"account_number\": \"0011223300112233\",\n",
    "    \"customer_id\": \"635d9cf278f6910a15f0be6b\"\n",
    "  }\n",
    "]"
   ]
  },
  {
   "cell_type": "code",
   "execution_count": null,
   "id": "be1d9544-1d49-40a8-9b0c-195f59bc00c0",
   "metadata": {},
   "outputs": [],
   "source": []
  }
 ],
 "metadata": {
  "kernelspec": {
   "display_name": "Python 3.9.0 32-bit",
   "language": "python",
   "name": "python3"
  },
  "language_info": {
   "codemirror_mode": {
    "name": "ipython",
    "version": 3
   },
   "file_extension": ".py",
   "mimetype": "text/x-python",
   "name": "python",
   "nbconvert_exporter": "python",
   "pygments_lexer": "ipython3",
   "version": "3.9.0"
  },
  "vscode": {
   "interpreter": {
    "hash": "7680a910db1d140edd944b60b213d7113b6f0fdda5297245ad0dcc74d4dedd41"
   }
  }
 },
 "nbformat": 4,
 "nbformat_minor": 5
}
