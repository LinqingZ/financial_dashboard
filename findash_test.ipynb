{
 "cells": [
  {
   "cell_type": "code",
   "execution_count": 1,
   "id": "6a732fdb-f55c-42d0-a7ec-fbb6c2f02492",
   "metadata": {},
   "outputs": [],
   "source": [
    "import requests\n",
    "import json\n",
    "import pandas as pd\n",
    "from datetime import datetime"
   ]
  },
  {
   "cell_type": "code",
   "execution_count": 2,
   "id": "8ffb880e-beab-43c1-9f05-66b4671eba12",
   "metadata": {},
   "outputs": [],
   "source": [
    "apiKey = '162961864e9109ece6a8a8d9e297e003'\n",
    "# make 3 users\n",
    "new_cust_url = f'http://api.nessieisreal.com/customers?key={apiKey}'"
   ]
  },
  {
   "cell_type": "code",
   "execution_count": 3,
   "id": "dd83f980",
   "metadata": {},
   "outputs": [],
   "source": [
    "# make dict of customer info\n",
    "cust_dict = {'fname': ['Josh', 'Mau', 'Nate'],\n",
    "              'lname': ['Pei', 'Ted', 'Peters'],\n",
    "              's_num': ['1', '2', '3'],\n",
    "              's_name': ['Huntington Ave', 'Dalton St', 'Columbus Ave'],\n",
    "              'city': ['Boston', 'Boston', 'Boston'],\n",
    "              'state': ['MA', 'MA', 'MA'],\n",
    "              'zip': ['02115', '02115', '02115']\n",
    "              }\n"
   ]
  },
  {
   "cell_type": "code",
   "execution_count": 4,
   "id": "e8767b21-64f6-48e7-a88e-576d704b48bc",
   "metadata": {},
   "outputs": [
    {
     "name": "stdout",
     "output_type": "stream",
     "text": [
      "Josh cust created\n",
      "{'code': 201, 'message': 'Customer created', 'objectCreated': {'first_name': 'Josh', 'last_name': 'Pei', 'address': {'street_number': '1', 'street_name': 'Huntington Ave', 'city': 'Boston', 'state': 'MA', 'zip': '02115'}, '_id': '635d9cf278f6910a15f0be6b'}}\n",
      "Mau cust created\n",
      "{'code': 201, 'message': 'Customer created', 'objectCreated': {'first_name': 'Mau', 'last_name': 'Ted', 'address': {'street_number': '2', 'street_name': 'Dalton St', 'city': 'Boston', 'state': 'MA', 'zip': '02115'}, '_id': '635d9cf278f6910a15f0be6c'}}\n",
      "Nate cust created\n",
      "{'code': 201, 'message': 'Customer created', 'objectCreated': {'first_name': 'Nate', 'last_name': 'Peters', 'address': {'street_number': '3', 'street_name': 'Columbus Ave', 'city': 'Boston', 'state': 'MA', 'zip': '02115'}, '_id': '635d9cf278f6910a15f0be6d'}}\n"
     ]
    }
   ],
   "source": [
    "for i in range(3):\n",
    "  \n",
    "  # set info\n",
    "  cust_info = {\n",
    "    \"first_name\": cust_dict['fname'][i],\n",
    "    \"last_name\": cust_dict['lname'][i],\n",
    "    \"address\": {\n",
    "      \"street_number\": cust_dict['s_num'][i],\n",
    "      \"street_name\": cust_dict['s_name'][i],\n",
    "      \"city\": cust_dict['city'][i],\n",
    "      \"state\": cust_dict['state'][i],\n",
    "      \"zip\": cust_dict['zip'][i]\n",
    "    }\n",
    "  }\n",
    "\n",
    "  \n",
    "\n",
    "  #Create a Savings Account\n",
    "  response = requests.post( \n",
    "    new_cust_url, \n",
    "    data=json.dumps(cust_info),\n",
    "    headers={'content-type':'application/json'},\n",
    "    )\n",
    "  \n",
    "  # check that the request went through successfully\n",
    "  if response.status_code == 201:\n",
    "    print(cust_dict['fname'][i], 'cust created')\n",
    "\n",
    "    print(response.json())\n",
    "    \n",
    "    \n",
    "\n"
   ]
  },
  {
   "cell_type": "code",
   "execution_count": 9,
   "id": "6651cee5",
   "metadata": {},
   "outputs": [],
   "source": [
    "mau_id = \"635d9cf278f6910a15f0be6c\"\n",
    "\n",
    "josh_id = \"635d9cf278f6910a15f0be6b\"\n",
    "\n",
    "nate_id = \"635d9cf278f6910a15f0be6d\"\n",
    "\n",
    "apiKey = '162961864e9109ece6a8a8d9e297e003'\n",
    "\n",
    "id_lst = [josh_id, mau_id, nate_id]\n"
   ]
  },
  {
   "cell_type": "code",
   "execution_count": 6,
   "id": "d3f0b89c-8df1-46c7-ab94-9b181cfa310c",
   "metadata": {},
   "outputs": [],
   "source": [
    "# mau_id = \"635d8fdc78f6910a15f0be3b\"\n",
    "\n",
    "# josh_id = \"635d8fdc78f6910a15f0be3a\"\n",
    "\n",
    "# nate_id = \"635d8fdc78f6910a15f0be3c\"\n",
    "\n",
    "# apiKey = '3082fde6c2b312a096ca60721a12c065'\n",
    "\n",
    "# id_lst = [josh_id, mau_id, nate_id]\n"
   ]
  },
  {
   "cell_type": "code",
   "execution_count": 16,
   "id": "89fb502e-4582-4a95-aefd-e19c58bdf8ec",
   "metadata": {},
   "outputs": [
    {
     "data": {
      "text/plain": [
       "{'code': 201,\n",
       " 'message': 'Account created',\n",
       " 'objectCreated': {'type': 'Credit Card',\n",
       "  'nickname': 'Drink Department',\n",
       "  'rewards': 100,\n",
       "  'balance': 1000,\n",
       "  'account_number': '0011223300112233',\n",
       "  'customer_id': '635d9cf278f6910a15f0be6b',\n",
       "  '_id': '635dab1278f6910a15f0be84'}}"
      ]
     },
     "execution_count": 16,
     "metadata": {},
     "output_type": "execute_result"
    }
   ],
   "source": [
    "# JOSH\n",
    "url = f'http://api.nessieisreal.com/customers/{josh_id}/accounts?key={apiKey}'\n",
    "\n",
    "josh_acc_num = \"0011223300112233\"\n",
    "account_info = {\n",
    "  \"type\": \"Credit Card\",\n",
    "  \"nickname\": \"Drink Department\",\n",
    "  \"rewards\": 100,\n",
    "  \"balance\": 1000,\n",
    "  \"account_number\": josh_acc_num\n",
    "}\n",
    "\n",
    "#Create a Savings Account\n",
    "response = requests.post( \n",
    "  url, \n",
    "  data=json.dumps(account_info),\n",
    "  headers={'content-type':'application/json'},\n",
    "  )\n",
    "response.json()\n"
   ]
  },
  {
   "cell_type": "code",
   "execution_count": 14,
   "id": "ddbac5b3-1594-475c-b311-e79c99a2a98a",
   "metadata": {},
   "outputs": [
    {
     "data": {
      "text/plain": [
       "{'code': 201,\n",
       " 'message': 'Account created',\n",
       " 'objectCreated': {'type': 'Credit Card',\n",
       "  'nickname': 'Room Budget',\n",
       "  'rewards': 100,\n",
       "  'balance': 1000,\n",
       "  'account_number': '1234567891234567',\n",
       "  'customer_id': '635d9cf278f6910a15f0be6c',\n",
       "  '_id': '635daa9678f6910a15f0be82'}}"
      ]
     },
     "execution_count": 14,
     "metadata": {},
     "output_type": "execute_result"
    }
   ],
   "source": [
    "# MAU\n",
    "mau_acc_num = '1234567891234567'\n",
    "url = f'http://api.nessieisreal.com/customers/{mau_id}/accounts?key=3082fde6c2b312a096ca60721a12c065'\n",
    "\n",
    "account_info = {\n",
    "  \"type\": \"Credit Card\",\n",
    "  \"nickname\": \"Room Budget\",\n",
    "  \"rewards\": 100,\n",
    "  \"balance\": 1000,\n",
    "  \"account_number\": mau_acc_num\n",
    "}\n",
    "\n",
    "#Create a Savings Account\n",
    "response = requests.post( \n",
    "  url, \n",
    "  data=json.dumps(account_info),\n",
    "  headers={'content-type':'application/json'},\n",
    "  )\n",
    "response.json()\n"
   ]
  },
  {
   "cell_type": "code",
   "execution_count": 15,
   "id": "5a740e4a-51ab-492b-a334-0a70e017fbfa",
   "metadata": {},
   "outputs": [
    {
     "data": {
      "text/plain": [
       "{'code': 201,\n",
       " 'message': 'Account created',\n",
       " 'objectCreated': {'type': 'Credit Card',\n",
       "  'nickname': 'Food Budget',\n",
       "  'rewards': 100,\n",
       "  'balance': 1000,\n",
       "  'account_number': '1234567891234569',\n",
       "  'customer_id': '635d9cf278f6910a15f0be6d',\n",
       "  '_id': '635daae178f6910a15f0be83'}}"
      ]
     },
     "execution_count": 15,
     "metadata": {},
     "output_type": "execute_result"
    }
   ],
   "source": [
    "# NATE\n",
    "nate_acc_num = '1234567891234569'\n",
    "url = f'http://api.nessieisreal.com/customers/{nate_id}/accounts?key={apiKey}'\n",
    "\n",
    "account_info = {\n",
    "  \"type\": \"Credit Card\",\n",
    "  \"nickname\": \"Food Budget\",\n",
    "  \"rewards\": 100,\n",
    "  \"balance\": 1000,\n",
    "  \"account_number\": nate_acc_num\n",
    "}\n",
    "\n",
    "#Create a Savings Account\n",
    "response = requests.post( \n",
    "  url, \n",
    "  data=json.dumps(account_info),\n",
    "  headers={'content-type':'application/json'},\n",
    "  )\n",
    "response.json()\n"
   ]
  },
  {
   "cell_type": "code",
   "execution_count": 21,
   "id": "5500074e-c390-4a5c-b7d2-3475d271ef9e",
   "metadata": {},
   "outputs": [],
   "source": [
    "# make purchases for Josh\n",
    "\n",
    "\n",
    "josh_purchase_url = 'http://api.nessieisreal.com/accounts/635d9cf278f6910a15f0be6c/purchases?key=162961864e9109ece6a8a8d9e297e003'\n",
    "\n",
    "josh_pur_details_list =[ {\n",
    "  \"merchant_id\": \"57cf75cea73e494d8675f031\",\n",
    "  \"medium\": \"balance\",\n",
    "  \"purchase_date\": \"2022-10-29\",\n",
    "  \"amount\": 100,\n",
    "  \"status\": \"completed\",\n",
    "  \"description\": \"bought drinks\"\n",
    "},\n",
    "\n",
    "{\n",
    "  \"merchant_id\": \"57cf75cea73e494d8675f031\",\n",
    "  \"medium\": \"balance\",\n",
    "  \"purchase_date\": \"2022-10-29\",\n",
    "  \"amount\": 200,\n",
    "  \"status\": \"completed\",\n",
    "  \"description\": \"bought drinks\"\n",
    "},\n",
    "\n",
    "{\n",
    "  \"merchant_id\": \"57cf75cea73e494d8675f031\",\n",
    "  \"medium\": \"balance\",\n",
    "  \"purchase_date\": \"2022-10-29\",\n",
    "  \"amount\": 300,\n",
    "  \"status\": \"completed\",\n",
    "  \"description\": \"bought drinks\"\n",
    "},\n",
    "\n",
    "]\n",
    "\n"
   ]
  },
  {
   "cell_type": "code",
   "execution_count": 22,
   "id": "971a196b-b62a-4dcd-ba34-4354227dfa73",
   "metadata": {},
   "outputs": [
    {
     "name": "stdout",
     "output_type": "stream",
     "text": [
      "{'code': 404, 'message': 'This id does not exist in accounts'} \n",
      "\n",
      "{'code': 404, 'message': 'This id does not exist in accounts'} \n",
      "\n",
      "{'code': 404, 'message': 'This id does not exist in accounts'} \n",
      "\n"
     ]
    }
   ],
   "source": [
    "# make those purchases\n",
    "for i in josh_pur_details_list:\n",
    "    response = requests.post( \n",
    "    josh_purchase_url, \n",
    "    data=json.dumps(i),\n",
    "    headers={'content-type':'application/json'},\n",
    "    )\n",
    "    print(response.json(), '\\n')"
   ]
  },
  {
   "cell_type": "code",
   "execution_count": null,
   "id": "5e5adeee-d28a-4a7f-9ddd-14bf95a6e0b8",
   "metadata": {},
   "outputs": [],
   "source": [
    "[\n",
    "  {\n",
    "    \"_id\": \"635da98278f6910a15f0be7e\",\n",
    "    \"type\": \"Credit Card\",\n",
    "    \"nickname\": \"Drink Department\",\n",
    "    \"rewards\": 100,\n",
    "    \"balance\": 1000,\n",
    "    \"account_number\": \"0011223300112233\",\n",
    "    \"customer_id\": \"635d9cf278f6910a15f0be6b\"\n",
    "  },\n",
    "  {\n",
    "    \"_id\": \"635da9f178f6910a15f0be7f\",\n",
    "    \"type\": \"Credit Card\",\n",
    "    \"nickname\": \"Drink Department\",\n",
    "    \"rewards\": 100,\n",
    "    \"balance\": 1000,\n",
    "    \"account_number\": \"0011223300112233\",\n",
    "    \"customer_id\": \"635d9cf278f6910a15f0be6b\"\n",
    "  },\n",
    "  {\n",
    "    \"_id\": \"635daa0c78f6910a15f0be80\",\n",
    "    \"type\": \"Credit Card\",\n",
    "    \"nickname\": \"Food Budget\",\n",
    "    \"rewards\": 100,\n",
    "    \"balance\": 1000,\n",
    "    \"account_number\": \"1234567891234569\",\n",
    "    \"customer_id\": \"635d9cf278f6910a15f0be6d\"\n",
    "  },\n",
    "  {\n",
    "    \"_id\": \"635daae178f6910a15f0be83\",\n",
    "    \"type\": \"Credit Card\",\n",
    "    \"nickname\": \"Food Budget\",\n",
    "    \"rewards\": 100,\n",
    "    \"balance\": 1000,\n",
    "    \"account_number\": \"1234567891234569\",\n",
    "    \"customer_id\": \"635d9cf278f6910a15f0be6d\"\n",
    "  },\n",
    "  {\n",
    "    \"_id\": \"635dab1278f6910a15f0be84\",\n",
    "    \"type\": \"Credit Card\",\n",
    "    \"nickname\": \"Drink Department\",\n",
    "    \"rewards\": 100,\n",
    "    \"balance\": 1000,\n",
    "    \"account_number\": \"0011223300112233\",\n",
    "    \"customer_id\": \"635d9cf278f6910a15f0be6b\"\n",
    "  }\n",
    "]"
   ]
  },
  {
   "cell_type": "code",
   "execution_count": null,
   "id": "5ee85200-46fe-48c5-870b-c0bca3115944",
   "metadata": {},
   "outputs": [],
   "source": [
    "{\n",
    "  \"merchant_id\": \"57cf75cea73e494d8675f031\",\n",
    "  \"medium\": \"balance\",\n",
    "  \"purchase_date\": \"2022-10-29\",\n",
    "  \"amount\": 10,\n",
    "  \"status\": \"completed\",\n",
    "  \"description\": \"string\"\n",
    "}"
   ]
  },
  {
   "cell_type": "code",
   "execution_count": null,
   "id": "f78ce226-b105-457c-9260-37965d59ad20",
   "metadata": {},
   "outputs": [],
   "source": [
    "{\n",
    "  \"name\": \"Walmart\",\n",
    "  \"category\": \"grocery\",\n",
    "  \"address\": {\n",
    "    \"street_number\": \"123\",\n",
    "    \"street_name\": \"String St\",\n",
    "    \"city\": \"Boston\",\n",
    "    \"state\": \"MA\",\n",
    "    \"zip\": \"12345\"\n",
    "  },\n",
    "  \"geocode\": {\n",
    "    \"lat\": -4.915833,\n",
    "    \"lng\": 24.492184\n",
    "  }\n",
    "}"
   ]
  },
  {
   "cell_type": "code",
   "execution_count": null,
   "id": "a23ce4b0-6bf3-46f3-a1da-a10df11ab0da",
   "metadata": {},
   "outputs": [],
   "source": [
    "512 Commonwealth Ave, Boston, MA 02215"
   ]
  },
  {
   "cell_type": "code",
   "execution_count": null,
   "id": "be1d9544-1d49-40a8-9b0c-195f59bc00c0",
   "metadata": {},
   "outputs": [],
   "source": []
  }
 ],
 "metadata": {
  "kernelspec": {
   "display_name": "Python 3.9.0 32-bit",
   "language": "python",
   "name": "python3"
  },
  "language_info": {
   "codemirror_mode": {
    "name": "ipython",
    "version": 3
   },
   "file_extension": ".py",
   "mimetype": "text/x-python",
   "name": "python",
   "nbconvert_exporter": "python",
   "pygments_lexer": "ipython3",
   "version": "3.9.0"
  },
  "vscode": {
   "interpreter": {
    "hash": "7680a910db1d140edd944b60b213d7113b6f0fdda5297245ad0dcc74d4dedd41"
   }
  }
 },
 "nbformat": 4,
 "nbformat_minor": 5
}
