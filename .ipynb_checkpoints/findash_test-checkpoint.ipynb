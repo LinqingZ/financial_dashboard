{
 "cells": [
  {
   "cell_type": "code",
   "execution_count": 1,
   "id": "6a732fdb-f55c-42d0-a7ec-fbb6c2f02492",
   "metadata": {},
   "outputs": [],
   "source": [
    "# This is written for PYTHON 3\n",
    "# Don't forget to install requests package\n",
    "\n",
    "import requests\n",
    "import json\n",
    "\n",
    "customerId = '123456'\n",
    "apiKey = '3082fde6c2b312a096ca60721a12c065'\n",
    "\n",
    "url = 'http://api.reimaginebanking.com/customers/{}/accounts?key={}'.format(customerId,apiKey)\n",
    "payload = {\n",
    "  \"type\": \"Savings\",\n",
    "  \"nickname\": \"test\",\n",
    "  \"rewards\": 10000,\n",
    "  \"balance\": 10000,\t\n",
    "}\n",
    "# Create a Savings Account\n",
    "response = requests.post( \n",
    "\turl, \n",
    "\tdata=json.dumps(payload),\n",
    "\theaders={'content-type':'application/json'},\n",
    "\t)\n",
    "\n",
    "if response.status_code == 201:\n",
    "\tprint('account created')"
   ]
  },
  {
   "cell_type": "code",
   "execution_count": null,
   "id": "a23ce4b0-6bf3-46f3-a1da-a10df11ab0da",
   "metadata": {},
   "outputs": [],
   "source": []
  }
 ],
 "metadata": {
  "kernelspec": {
   "display_name": "Python 3.9.0 32-bit",
   "language": "python",
   "name": "python3"
  },
  "language_info": {
   "codemirror_mode": {
    "name": "ipython",
    "version": 3
   },
   "file_extension": ".py",
   "mimetype": "text/x-python",
   "name": "python",
   "nbconvert_exporter": "python",
   "pygments_lexer": "ipython3",
   "version": "3.9.0"
  },
  "vscode": {
   "interpreter": {
    "hash": "7680a910db1d140edd944b60b213d7113b6f0fdda5297245ad0dcc74d4dedd41"
   }
  }
 },
 "nbformat": 4,
 "nbformat_minor": 5
}
